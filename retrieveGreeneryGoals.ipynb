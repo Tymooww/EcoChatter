{
 "cells": [
  {
   "metadata": {},
   "cell_type": "markdown",
   "source": [
    "Retrieving (unstructured) greenery goals\n",
    "---\n",
    "This notebook retrieves a document with greenery goals in it. This document will be chuncked and then be stored in a vector database. At last it will do execute a similarity search to find relevant documents and it will then use these to find the answer for the question.\n"
   ],
   "id": "e9eb7d5fa39038fb"
  },
  {
   "metadata": {},
   "cell_type": "markdown",
   "source": [
    "Imports\n",
    "---"
   ],
   "id": "308e71c660a7ab23"
  },
  {
   "metadata": {
    "ExecuteTime": {
     "end_time": "2025-05-13T12:46:56.632847Z",
     "start_time": "2025-05-13T12:46:50.349626Z"
    }
   },
   "cell_type": "code",
   "source": [
    "from langchain_huggingface import HuggingFaceEmbeddings\n",
    "from langchain.chains.retrieval_qa.base import RetrievalQA\n",
    "from langchain.text_splitter import RecursiveCharacterTextSplitter\n",
    "from langchain.vectorstores import FAISS\n",
    "\n",
    "from langchain_community.docstore import InMemoryDocstore\n",
    "\n",
    "from langchain_openai import AzureChatOpenAI\n",
    "from langchain_ollama import ChatOllama\n",
    "\n",
    "from dotenv import load_dotenv\n",
    "from PyPDF2 import PdfReader\n",
    "from uuid import uuid4\n",
    "\n",
    "import os\n",
    "import faiss\n",
    "import urllib.request\n",
    "import requests"
   ],
   "id": "48fe2553ab822baf",
   "outputs": [],
   "execution_count": 1
  },
  {
   "metadata": {},
   "cell_type": "markdown",
   "source": [
    "Load a large language model\n",
    "----------\n",
    "Langchain makes it possible to easily switch LLMs. Llama 3 is used to show the data can be analysed with a locally running open-source model, but it is very slow. So to speed it up I also used o3-mini and gpt-4o-mini to show it works.\n"
   ],
   "id": "b05e975155a0d7e1"
  },
  {
   "metadata": {},
   "cell_type": "markdown",
   "source": [
    "\n",
    "Load Llama3:"
   ],
   "id": "232dd2f249961143"
  },
  {
   "metadata": {
    "ExecuteTime": {
     "end_time": "2025-05-11T11:08:17.796108Z",
     "start_time": "2025-05-11T11:08:17.744483Z"
    }
   },
   "cell_type": "code",
   "source": "chosen_llm = ChatOllama(base_url='http://localhost:11434', model=\"llama3\")",
   "id": "a1a4046e1a641a9b",
   "outputs": [],
   "execution_count": 2
  },
  {
   "metadata": {},
   "cell_type": "markdown",
   "source": "Load o3-mini (via Azure):",
   "id": "f77781c99b48898a"
  },
  {
   "metadata": {
    "ExecuteTime": {
     "end_time": "2025-05-11T11:08:18.506980Z",
     "start_time": "2025-05-11T11:08:18.447747Z"
    }
   },
   "cell_type": "code",
   "source": [
    "load_dotenv()\n",
    "\n",
    "chosen_llm = AzureChatOpenAI(model =\"o3-mini\", api_version=\"2025-01-01-preview\", azure_endpoint=\"https://56948-m9bdjgpg-eastus2.cognitiveservices.azure.com/openai/deployments/o3-mini/chat/completions?api-version=2025-01-01-preview\", api_key=os.environ.get(\"AZURE_OPENAI_API_KEY\"))"
   ],
   "id": "dae3e6325e0ba1a2",
   "outputs": [],
   "execution_count": 3
  },
  {
   "metadata": {},
   "cell_type": "markdown",
   "source": "Load gpt-4o-mini (via Azure)",
   "id": "5a9dce9213b110dd"
  },
  {
   "metadata": {
    "ExecuteTime": {
     "end_time": "2025-05-13T12:46:59.929673Z",
     "start_time": "2025-05-13T12:46:59.841151Z"
    }
   },
   "cell_type": "code",
   "source": [
    "load_dotenv()\n",
    "\n",
    "chosen_llm = AzureChatOpenAI(model=\"gpt-4o-mini\", api_version=\"2025-01-01-preview\",\n",
    "                             azure_endpoint=\"https://56948-m9bdjgpg-eastus2.cognitiveservices.azure.com/openai/deployments/gpt-4o-mini/chat/completions?api-version=2025-01-01-preview\",\n",
    "                             api_key=os.environ.get(\"AZURE_OPENAI_API_KEY\"))"
   ],
   "id": "260f70cc78667853",
   "outputs": [],
   "execution_count": 2
  },
  {
   "metadata": {},
   "cell_type": "markdown",
   "source": [
    "Choose embedding model\n",
    "---\n"
   ],
   "id": "bdbdf807ca7f7833"
  },
  {
   "metadata": {},
   "cell_type": "markdown",
   "source": "Choose all-MiniLM-L6-v2 as embedding model (worse, but faster)",
   "id": "89f7c952d1dffee0"
  },
  {
   "metadata": {
    "ExecuteTime": {
     "end_time": "2025-05-11T11:12:27.688865Z",
     "start_time": "2025-05-11T11:12:04.420694Z"
    }
   },
   "cell_type": "code",
   "source": "embedding_model = HuggingFaceEmbeddings(model_name=\"sentence-transformers/all-MiniLM-L6-v2\")",
   "id": "95b2f06ba8620ff6",
   "outputs": [
    {
     "name": "stderr",
     "output_type": "stream",
     "text": [
      "C:\\Mijn bestanden\\CodeProjects\\LangChainDemo\\.venv\\lib\\site-packages\\tqdm\\auto.py:21: TqdmWarning: IProgress not found. Please update jupyter and ipywidgets. See https://ipywidgets.readthedocs.io/en/stable/user_install.html\n",
      "  from .autonotebook import tqdm as notebook_tqdm\n"
     ]
    }
   ],
   "execution_count": 3
  },
  {
   "metadata": {},
   "cell_type": "markdown",
   "source": "Choose all-mpnet-base-v2 as embedding model (better, but slower)",
   "id": "8e69b2cb7523c4ba"
  },
  {
   "metadata": {
    "ExecuteTime": {
     "end_time": "2025-05-13T12:47:29.920130Z",
     "start_time": "2025-05-13T12:47:02.926954Z"
    }
   },
   "cell_type": "code",
   "source": "embedding_model = HuggingFaceEmbeddings(model_name=\"sentence-transformers/all-mpnet-base-v2\")",
   "id": "5833c9fb3570120",
   "outputs": [
    {
     "name": "stderr",
     "output_type": "stream",
     "text": [
      "C:\\Mijn bestanden\\CodeProjects\\LangChainDemo\\.venv\\lib\\site-packages\\tqdm\\auto.py:21: TqdmWarning: IProgress not found. Please update jupyter and ipywidgets. See https://ipywidgets.readthedocs.io/en/stable/user_install.html\n",
      "  from .autonotebook import tqdm as notebook_tqdm\n"
     ]
    }
   ],
   "execution_count": 3
  },
  {
   "metadata": {},
   "cell_type": "markdown",
   "source": [
    "Define the question\n",
    "---\n",
    "Write the question that needs to be answered by the LLM."
   ],
   "id": "e768ea590e0e254b"
  },
  {
   "metadata": {
    "ExecuteTime": {
     "end_time": "2025-05-13T13:19:36.789738Z",
     "start_time": "2025-05-13T13:19:36.774040Z"
    }
   },
   "cell_type": "code",
   "source": "query = \"Vind het verweving percentage van de gemeente?\"",
   "id": "40da5abe0bfdbca1",
   "outputs": [],
   "execution_count": 9
  },
  {
   "metadata": {},
   "cell_type": "markdown",
   "source": [
    "Load and chunk the document\n",
    "---\n",
    "It loads the pdf, extracts the text and chunks it into pieces."
   ],
   "id": "b787bdc25e6a4356"
  },
  {
   "metadata": {
    "ExecuteTime": {
     "end_time": "2025-05-13T12:50:43.380337Z",
     "start_time": "2025-05-13T12:48:21.411399Z"
    }
   },
   "cell_type": "code",
   "source": [
    "# Load file\n",
    "'''\n",
    "url = 'https://omgevingsvisie.utrecht.nl/fileadmin/uploads/documenten/zz-omgevingsvisie/thematisch-beleid/groen/2007-05-groenstructuurplan.pdf'\n",
    "file_name = 'groenstructuurplanUtrecht.pdf'\n",
    "\n",
    "with open(file_name, \"wb\") as file:\n",
    "        response = requests.get(url)\n",
    "        file.write(response.content)\n",
    "'''\n",
    "\n",
    "file_path = \"./GroenbeleidsplanEindhoven.pdf\"\n",
    "doc_reader = PdfReader(file_path)\n",
    "\n",
    "# Extract page content\n",
    "raw_text = ''\n",
    "for i, page in enumerate(doc_reader.pages):\n",
    "    text = page.extract_text()\n",
    "    if text:\n",
    "        raw_text += text\n",
    "\n",
    "print(\"Amount of characters raw text: \" + str(len(raw_text)))\n",
    "\n",
    "# Split the page content into chunks\n",
    "text_splitter = RecursiveCharacterTextSplitter(\n",
    "    chunk_size = 1000,\n",
    "    chunk_overlap  = 200,\n",
    ")\n",
    "chunks = text_splitter.split_text(raw_text)\n",
    "\n",
    "print(\"Amount of characters first chunk: \" + str(len(chunks[0])))\n"
   ],
   "id": "c5e7d02b9b61ddd0",
   "outputs": [
    {
     "name": "stdout",
     "output_type": "stream",
     "text": [
      "Amount of characters raw text: 260257\n",
      "Amount of characters first chunk: 914\n"
     ]
    }
   ],
   "execution_count": 5
  },
  {
   "metadata": {},
   "cell_type": "markdown",
   "source": [
    "Generate embeddings and save them in the vector database\n",
    "---\n",
    "Create a vector database, generate embeddings for the chunks and save the embeddings in the newly created vector database."
   ],
   "id": "9bf30886ef8d901b"
  },
  {
   "metadata": {
    "ExecuteTime": {
     "end_time": "2025-05-13T12:56:53.682882Z",
     "start_time": "2025-05-13T12:50:46.932522Z"
    }
   },
   "cell_type": "code",
   "source": [
    "index = faiss.IndexFlatL2(len(embedding_model.embed_query(chunks[0]))) # Calculates the amount of dimensions the chunk's vector has\n",
    "\n",
    "vector_store = FAISS(\n",
    "    embedding_function=embedding_model,\n",
    "    index=index,\n",
    "    docstore=InMemoryDocstore(),\n",
    "    index_to_docstore_id={},\n",
    ")\n",
    "\n",
    "uuids = []\n",
    "for chunk in range(len(chunks)):\n",
    "    uuids.append(str(uuid4()))\n",
    "\n",
    "vector_store.add_texts(texts=chunks, ids=uuids)\n",
    "\n",
    "print(\"UUIDs of items stored in vector database: \" + str(uuids))\n"
   ],
   "id": "d568cc81e616a98f",
   "outputs": [
    {
     "name": "stdout",
     "output_type": "stream",
     "text": [
      "UUIDs of items stored in vector database: ['01e56c31-d3aa-4f99-91df-75545cd8af93', '51e5a2dd-dfe3-4155-93f0-09dd291c5df1', '5505550d-e7ef-48cc-8464-11d2b5a2aa48', '1632a1be-655f-4705-b783-fd5e02f322cf', '4ef9a232-14df-4fc9-8847-577a2d0ca8fe', 'b8ac78ca-0932-414d-8ab1-c0a451725b5f', 'b56f926a-045c-4445-850b-b7cd76b4dd3c', '089e05ca-a533-4fa8-bd8e-f33f70469a35', 'c7818a0b-cfae-4a45-ab4f-9517bf7e4f69', '3c2ec21d-bff4-4206-8c10-c1e57c72649c', 'b91281bd-d6ba-4e7b-8381-aec05ed3b2ac', 'c9fb6c48-36b3-436b-899d-eb4a990c4010', 'abf7d5b0-a1ac-408b-97b8-aafb3aeadcfa', '2968e73f-f343-4e8e-8707-57e5a3761f30', '1499d58c-4023-4bec-8035-1da47378eaee', 'ab084780-c0d7-42dd-b507-4e52d4ff29a3', '5a3a399b-1f48-4cb0-b10c-9fe0fa6e9a29', '0285f91b-0fd0-4bf2-8920-ddf3b66d2aa2', '956a05f3-ffce-4cf1-abba-c44b2b58e196', 'b886b29a-47dc-432b-9bee-6232e9194e35', '4a5a9800-ffa1-4a6e-9d13-eb940972324e', 'b7627552-dcd6-4a61-9ea4-674fe6045a1a', 'f48586ef-1d37-4164-be98-91097caaffe1', '9c72d304-b92e-4c4c-b8d7-0d264b5e78dc', '21f0e00f-a24c-41f1-b2b0-0416fa7165eb', 'f71f6f0e-952a-4e07-bf0a-684dbf76ef6c', '62bfba9f-467a-4942-a35c-6bef3bce1003', '3cd689e4-de78-4c00-85fa-b25f35553efc', '31d78339-c516-4d2a-a739-350843de276b', '93f4f9c7-a4df-4903-a94a-f08573608b37', '783438e3-cbd4-4fef-9fe9-8c476aaaa56d', '92294be9-47ec-4b2e-a78e-9a05622918fb', '58385d73-273e-4296-b6ae-9f0d06f0283e', 'edcfbf10-b934-4afb-8b01-8266e9a3a1f8', '80772479-8979-42d2-883d-ebf43303ee80', '99d43868-439c-4d90-bcb6-d3ae83fc131e', 'b7c4727a-8fed-403c-bd65-887e2abff0c6', 'bbc1991a-5c74-49b1-8a32-4d30801eda6f', '077038ee-2b68-425d-95db-ded5de394b99', '62ff2a66-710c-4829-9cbb-87dadc599a71', '03f13fe3-abc4-4151-bafa-f5a9c945ca94', '9540c0e1-458d-47e3-9a47-853fe0de979f', 'bafe4ea5-2cf7-4175-9b27-7c412c369496', '50bb1976-597e-4f94-bd7d-7130b720b077', '931ac2ea-fc42-4220-ab05-0601a856dcbf', '25abfdf2-5368-463d-9529-f832b0b3de0a', 'e70e4c8f-19ff-4887-b4a3-2a2483441ab8', '1c0697ec-79dd-4b60-a1e6-1f3a16c618d0', '34a752be-36d6-48a3-ac70-d439eb72b8a2', '5917ee0a-b049-4301-ae0a-27e3df0c4146', 'ed3e8ec9-d20a-4514-b235-371e8c9282d4', '73d778ab-c2e1-4439-9197-e168ad614dcd', '54aea3c1-2d31-4a89-b5cc-878c567d9890', 'fcff55d0-92d1-4508-b34c-bffad471b0fa', '50833228-08b6-4af3-b0ce-38eefba14935', '27072af6-5ca0-499b-aa4b-682e29dc597d', 'bbdeb8ab-b818-4264-b094-0c96398cba52', 'e0be1e00-6730-490a-92fa-8a073676c4d4', 'ca3b9036-3929-404c-84bd-28ae42cd5735', 'e79876e6-ecd8-43df-b96b-68419bcf3cee', '6b06c4b9-b0da-4cdc-aeb3-3c501f3c1a05', '6c301125-0f8d-41ad-9764-8c4cb30530e8', 'dbe83776-a913-46b2-84a3-8ca88c310cea', '1406e2c2-fe12-4466-9980-6bb27f0f9179', '34979ab2-96b5-4a29-9811-823834ab1328', '8c047ad8-56ff-47e5-b2d9-5f782d09e70f', 'a772f448-78a2-4948-a634-faa3076a03c2', 'd28bdb47-c52e-43c2-9291-87dbfbb47611', 'f82fce48-355a-4171-9eb0-ffaa39197d07', 'bdc16e5c-e985-4351-8783-84f01538390e', '3a58c8b7-9952-4842-85d1-b04c1faf777d', 'e07847c9-132b-4962-88f3-24f72da7d414', '45092e5a-6d53-49fe-af44-9e43a4a2b0d7', 'b251f383-05b0-4938-b49e-1ae9f9b57b24', 'cf0960f2-65e2-420c-a5e8-474b6ca8022c', '578302d9-f692-49c3-90b0-4b3ad58845b5', '168e5a44-d3d6-4d25-9d4c-482212c4399f', '531aef45-cf73-4f12-a176-7bed3bd31308', 'c88e27f3-af69-47be-8f72-a29ee9f1b48b', '23e95585-4658-45e8-8a14-d7ab0e077652', '61205a6d-7da2-4fd8-8655-a2db168f9ccf', 'c4f3d6bc-b5c8-4c3f-8cfb-49f10140162c', 'cdfc6d34-54c0-4565-bd4a-6f05f56f9680', '894a4f8b-fdbf-486e-ac62-9cf0c3768717', '5c295f18-18ed-4343-87ce-46802e65dc81', '4ee45a4e-1f00-43d4-83d8-02aa7a0dd757', '5e49e1bc-f2ef-4ac7-8048-9367f0a5e39f', '7202512e-adb5-400e-9008-be15af56eddf', 'a3134669-2e6f-431d-be6a-5c4d93429ef1', '8a6f042c-e905-41e6-baf2-74861e5302ec', 'b0e4664c-107d-49f2-a2ae-56a0ae1c10b7', '7a8e8b20-c272-478b-8bb6-a2ce6b884cdb', '645f8b52-a869-46c5-af81-b2ad431a52a2', 'd1c0289e-7777-404d-a8f9-62fe89f05d14', 'f4a60679-60d1-40e3-ab0b-93cf5fc8b6eb', 'd6217993-1532-4377-861e-3b9234438b84', 'a1dca067-d592-4a16-b95e-ecb73735b627', '0150bcdc-f1f7-4ef8-9dc7-7bd9230c180a', '8984cce7-5ce2-4a49-a91c-d59a25628743', 'f3291971-70e8-4ab3-aee6-830ff29dacf1', '34834e69-e219-4510-8aa8-17bfd40c002c', 'accf3a46-4a28-4de2-a488-89e8b503b2fc', '9f780a0c-ac7a-480c-b29b-13bbf471dc86', '78c57587-8f5d-44e3-afdc-9c4b23d5d2eb', '566be3e5-8484-405c-bfc5-69cff89045ac', '2bce7775-9e01-4d03-bae3-a991ab905b5c', '86724125-ccb3-489a-8c22-5cb5af875763', '05d6fde0-69c1-44e1-9d54-6cc06b54bac3', 'e074e4b2-d96d-4e38-8c72-86114e35649f', '01ca68e2-27f6-4530-80fa-8db40afc3ede', '85c99018-2c53-42ce-b2f8-09fe321bf512', '291618f6-a0c0-47d0-b230-55c4a886b48c', '4a90492d-11a6-457d-a4e1-791c0f452ecd', 'df0fe6f1-4990-4d14-b1e9-3c4b42789b49', 'f5e563d8-a7a9-43ab-961d-724b31de55f7', '3200344b-576f-42ff-a9ee-ef8d01c728d8', '47f986d9-7fc4-48d4-a3b4-43c7e84a57a6', 'abc99c73-ded5-4db0-b648-0c4c565b793f', '56fc1895-a5ff-480b-9863-55acb8a41777', '84a8d53b-6aa4-4f43-93ae-8acafa87a6c2', '26313ac3-deb2-46f7-9bcd-86b883ec5536', '40c7b221-4d1a-4b31-b8b4-ba22fd4ef320', '3c7f2a4c-77b1-4d58-88f6-9b6d937a5631', '02eb8153-fd73-429f-bb7b-1c0e0c252a40', '1c2fa7e3-b8aa-4588-af13-2d224e5b4fc7', '92b6c8d2-dd9d-4868-8af5-d3040ad19e87', 'd5429136-05e1-413c-bb84-5796464e18fd', '797f37e7-0459-4853-8edd-ae564e6d83b7', '4ae065f9-b534-474b-b9f7-13d203a91f10', '58e47c52-0c79-41aa-b7c7-3a1802b997f0', 'a1a8b5c4-c93c-495a-9f41-8124bd256baa', '69e478d7-beb6-4bac-bd4c-f6fe26e969d1', '5c1c81bc-0178-4a81-97e2-8f90091a4073', 'da2cc5e3-530f-4db1-ae84-c979e8b4507e', 'd738fb5d-1c9c-4858-be2a-30edcecb6e95', 'b6d1f7e6-20c5-403f-b8e1-db94524859fe', '69a89888-5be7-4b28-ad8c-00732f3a19a5', '100a35d6-9160-4320-ac1e-da11254b882c', '2a554ec7-a07d-49d9-ad94-0ac6b50f3f45', 'f811ed46-f520-4cf3-b027-10d5ecbd35d5', '069e5fd8-d6ff-4677-91aa-a58a7bac4370', 'e4953224-bd5c-4119-a85c-cc8600bc1d03', '4b214ea6-02dd-4b34-bdd6-cb31ef918234', '114cb12f-c77b-4ad9-b552-e61666becc6d', '9cf0dc99-13eb-4e48-a055-13014378fd65', '8dd3427b-c570-4103-96ec-b672275f1366', 'b00653e0-66c5-4db5-88c7-94f8b9ce329a', '4ee8e3cf-8123-463c-8372-99796e8bb6c2', 'e913b6d5-fe25-46fb-b497-2b44eda1250e', '1fbd5164-adf8-4841-89c6-cfeb7d21778c', '43a08d0a-e38b-480f-81db-30ef18d6be0f', '6b4bcc88-9017-4f34-aea0-7c643865f35e', '23b52057-1678-4324-8614-ebbfc8f2ec16', '0f4bb342-207c-4930-8fb9-ad3ca3857525', 'd653c23d-82bd-4aff-81b0-5df1a82aa4a9', '99572264-a1b1-4e9e-a5d6-e1636174122e', 'bc20735a-9afa-46aa-bc16-6aabf3d1b532', '08f56642-e0e6-4365-8dd3-f2defbea333a', '138cf7a9-fcde-40e2-8d33-f24ad327d765', '48a29623-3cd7-4dca-b79d-9a9430bba532', 'bf6d5af3-a57b-499e-b215-db70b04026c1', '4b46cdde-20a7-4852-8b40-925961da15dc', 'afe2792d-146b-4dd4-8ee7-bcb5831897ad', '0379f011-7f1e-4a82-b680-b51d86d4a43c', '20e680b9-9542-40d6-beb7-aacf8848c0a4', '32ee9479-e6e8-409a-b958-f014e75d0635', 'd80d6ef1-14ca-466d-9e6f-209f0d53ef8f', '39afbd2c-2332-470f-8e9b-4126d2dde984', '7caa4f79-7f38-4100-bf3d-b3839f3eaa45', 'c627ada0-774b-4f07-af0e-2be4de157beb', 'f7dcf14d-04c3-4fc6-a52a-ba7338fe5c49', '72f499cb-6632-4351-84c9-5bfacf9d2ae1', 'c6f33738-69aa-459c-9c85-3a68429498ca', '86c57560-2cc0-4044-8107-f8534d882cf5', 'fe5c385f-6a6f-4352-a307-980aac2f359d', 'eae7d435-4d9a-4866-b895-80e28cb37aa0', '5cc82b24-3e29-4810-bef7-136108310a96', '19a190b2-8eef-49d3-b943-945ff09c7668', '02ab4c99-2508-418d-b899-39fd34329a7b', '86fe31bb-741d-4f95-a14b-cd986a073d16', '525cf845-78ba-4add-bba0-f205a7c538ce', 'b9b01c74-a249-4e4d-929a-3b401a024fba', '4c686805-f5f3-49d4-b768-e6c9901f927f', 'a485c36a-4ed8-45b1-89e0-2ac088f826d9', '6f1c2f59-0014-46db-9b54-5c417f9b4240', '1ae945d3-1227-405b-8a67-574a9f274b74', 'ac936147-bd82-4cbf-bcc9-8b27a5d4d815', 'c3a3d3da-b68b-4178-8691-0fcc78a22230', '42e8553c-9679-49f1-bba5-a25aecd57374', '7cb58629-d71f-45e8-b6b4-8d38de7c4572', 'a81af8a5-8bdc-4d1c-ba3d-809297851d24', '6bbcc313-17d8-4d0a-87ad-b92940272f41', 'b36f23fc-dd65-4dcd-b83f-cc24bf1493af', '07607e88-4e5b-4204-a637-04cb93d3d165', 'dc3308a4-e216-47d4-90f9-6843594ff708', 'e9455913-a10b-4dc4-8721-0c1db0ba5e43', 'e6602177-e395-4f0d-a47a-644fc112f681', '9897c313-0538-4aa5-b78f-b8bd5634eadb', '2c2e9995-09bb-48a0-ba36-542106f0d5b7', '71dac4e7-e559-4e7c-9b79-0f4d73ad3503', '5bb00fbc-696a-4b14-9ca8-0736ee3e7370', '3d598b3c-55f0-491b-961c-e4deed06a052', '451395a3-6575-4701-beed-69940a011c04', '8a6a39dc-d8dd-40b9-b604-9b695e93e5b1', 'b67c6d54-6875-4f64-9cff-b2c62c310100', '72ea3a7c-a8a5-40f7-bd90-302aa662363a', 'ae4f18a0-aeea-43a8-8d6f-b9adf82c9849', 'e8ab7935-3991-4ec9-89b8-a34117143075', '71940403-f524-4f01-92d2-212a4065e417', '17aafff2-c801-4dd2-88ac-377e00e7af56', '9b90ac10-b5e2-44b3-852d-d3f59248a284', 'f117746d-a440-4921-8d57-363cf804d237', 'e5406906-ccf8-46a1-a3e6-da213848802e', 'df2a0290-9880-476c-8838-08c0f0cd11fb', '6ea29952-f9ee-44b8-b268-035e85b7c4e3', 'd9adaa1a-3018-4ab9-b59c-b021f93e670f', '81cc4f12-9f44-4b04-a153-41a36890ca08', '523ca7af-94a5-4e7d-9227-be68f7e8d2b8', 'd120c849-0c0f-4796-9cd5-b14e1385c569', '4ddc408a-dddd-42a3-ad6b-2be665dcf394', 'c49f8f29-0491-477a-97d3-bc8c03860779', 'dfd054ed-0190-4b78-8006-ff628c0b5d00', 'f8e0a0eb-1261-44f0-972a-c4f8602c79c2', '7aaa10a3-ca13-428d-b7ec-feb81eee85e3', 'cfddd9d7-4450-4973-bcc1-4ca900f23f33', 'd5d5756f-7c98-4e46-ace7-39046ee3a815', 'fa92458a-6f06-449f-ad92-e78faf9ab057', '211889f6-7af8-4b50-a6cb-88ec83563f3c', '1bfe519e-553a-4b63-909a-6c59c58ae651', '76a544fd-68f9-4283-b0fd-ca7d74d02c8c', 'd15145a1-d29c-4f7a-b0cc-9f8c6fcac099', '1aeac83f-efbb-4777-807a-83537d32f8c3', '629d9341-105d-4957-a27c-a08bdbac2b0e', '468fde6f-00ff-4414-aa3d-0a8103a0ede7', 'bcb4a9e6-6acc-4bcf-b465-90d14e9197a0', '31b07104-033a-458f-8e83-d25c68196fc6', '04a0f4c3-8b14-42b9-b80c-1164fde43db4', '1b53843d-5e4d-40f3-8043-2c95b82352f9', '276a5f53-a33f-4b20-ac22-4b3e12391fbb', 'bc61fed4-f925-4eac-8d7a-405f3c21ae55', '86fa66e8-12de-4cf3-b1b1-603d33b3b69b', '95b46c96-3bb7-488b-9d32-11c0e4c97177', 'e233feb2-dcf0-43b5-a7d5-17bc32601875', 'fb4a2ffb-ed03-42b7-a080-51422186f813', 'c984d09c-46d6-41ee-8379-b9e3d69e03bd', 'e1c2a6a9-a4be-4751-af2a-278a0e611d08', '7fb8563d-2ffa-49dc-a565-7437dcfea747', '4fa1b1b4-cc9b-413a-9d0a-8205967d0206', 'bdd6a149-edd8-474d-b8f1-fcdeddd80e78', '0111138e-98c8-46bb-9f42-0af4d1613b6f', 'e90493a4-060f-4fa9-ba63-42564f02a8ee', '0ffef70b-b061-4ada-add4-132b73fec16f', '8853f202-99a2-47a2-b2d2-4626b152523a', 'ed11fb22-7155-466b-9982-744f8bb5ba3e', '95ba4a0d-d1c6-4c6a-8f02-ba4daa3ff2a3', 'f7985d4a-499e-44bd-a2f9-69b25c5363e6', '3e37c45d-ca51-47c1-8526-b20070316df8', 'cd97b0dc-c52c-4b3e-a4a1-bbe655fab123', 'b183b4c0-078e-4772-afc5-42a7a8036c83', '27e218fa-6002-45ae-b27e-bd775024c3ab', '8d0c6afd-05cc-4e4a-9b35-27653e6b5427', 'd5b0c1e0-4a96-4e0f-b582-c3a5f9ced198', 'd6f86ad4-4f49-43af-b32e-844014e9ef7a', '1e543097-d51f-4404-9efe-f775c79b2a1f', 'c5d31862-0d68-45ae-842a-b343ad6e1902', '74aea6ca-7e9e-4f48-bfbb-1cdc0ca63d50', 'baa1d8f8-5d4f-4911-918b-4c92fa4ad86a', '79d90728-fa41-40a2-bb08-e30e0fa3dd32', 'cb455476-adda-441d-a7c8-430044c3e645', 'c48c3dfc-89ba-44c6-923f-790479a00796', '7fa78cf1-1c44-492f-a867-98af684d05a7', '7b55d973-5061-45fb-bcb4-ec6e12356022', 'cab41d18-8831-4be4-9807-ee68a6733b94', '9f9c657d-d420-4add-b89d-c23c348eff4b', '93f8841d-2179-4fac-a288-57cf550984cc', 'a8880f6a-a82c-4d3d-910f-8a939d847064', 'cedafb23-b5b5-4c6c-80d9-3c17dc3e714a', '9355e8c8-8f1f-43a9-b81d-03bd926dd415', '0a3af193-aa9f-4610-a399-f4d8a5816b4b', 'da06f1fa-7367-480f-9de9-2c82acfb808c', '23cf55ac-64d6-4572-b9a6-4979d158c0d1', '066b3014-c8b4-488b-bc4a-ef2033b2fc2d', 'ffe0b4e9-101e-4809-ac09-24af72b4908c', 'e3aa7b5a-f519-400e-b595-0d6a668bfc2e', '63cfbc53-2466-4093-844f-979ec76222a7', '706e11b9-5908-4a5f-9e29-f6f4b1031b13', '2b0d55c2-24ec-4aea-aca5-9a90a7092e01', '9c87f8fb-9c03-4758-a208-b4000629bb45', '8898230e-3343-4b3a-9fdb-bade3163e37d', 'bfe95207-c053-4bc3-8c8c-772541e9b912', 'f83c75e3-1379-4599-8d4b-38b5156a5f46', '6de72eff-1b7c-4e3c-9de0-ab7af8635535', '309f7bd6-41b4-457c-8b17-6ae8790482a0', 'cca6f539-175a-465b-9012-a0310f02230c', '78423c9d-dd3a-471b-b553-bb865ab5138e', '0f53f3a1-375e-4df5-878e-4c720e4ff155', 'ddd8d4d9-f1ce-4605-ba74-7cc7567429e2', '904b0810-63aa-4356-a937-4d01b8fa5fb8', 'd184c629-d7ba-4078-9386-df2ae3a45cc9', '35dfc898-a30d-4688-86a9-b430a13c946a', '0ebb4dc1-884e-4cf0-a2de-8a455b5ead19', '8a96fad0-7fad-4ed0-91b0-a0b8fed79fdd', 'd6b4c450-ec9b-400b-95ba-48b172373bb6', '319e3d82-1e9a-4b93-a36b-42126dd9889a', 'c1c07219-d7d4-4dd0-ac16-0f399ba892c4', '84e29970-7fca-47de-a572-9f40f204e959', 'd6a24d03-d29e-4cff-9946-3af7640804af', 'ae9f0a7e-4ca9-4969-8e25-c493fe50cf42', '67f159b2-ca1b-43f5-bf82-1fc078efb665', 'f27a16f1-09fa-46d5-aab9-75efedda8d4d', 'ce7cfd13-0036-44d5-86de-5e254a64a3fc', '61b58e68-fb68-4388-a323-6d4be839035b', 'dbc85c95-ace3-4bd0-a60c-fb17c8c378dc', '388a5e45-adca-4614-9775-f059d621b5e2', '14a6d927-c45c-44aa-af45-d64179eb0699', '834d7bef-162d-4cc9-818e-ba34956a2ac2', 'a20dad04-35c9-4416-86b5-d36136205888', 'ded6aea9-4adc-4257-b981-c0d48bcde373', 'd7234c2b-b8be-4fa9-b8ff-aefe8ae34165', '88027672-1ab3-494f-a267-312638eddb5c', '1682fd27-7b26-43b9-88fa-fe9ad51d3319', '354c400c-3e3d-486c-9c33-38f29dfb9388', '9773ba58-3ca6-43d6-b87c-a77e57978b50', 'c5880c98-19fc-48f0-9748-cc09817d5434', 'e4d66e0a-6d7e-4292-8572-48567afb11cf', 'f0b28a7a-dca0-4e02-9bde-bcc1a003b490', '7345eb0e-36ca-4127-b045-4e0ae00450b9', 'fb6df5e3-13f3-45c8-8d6b-aa9a1ea2308c']\n"
     ]
    }
   ],
   "execution_count": 6
  },
  {
   "metadata": {},
   "cell_type": "markdown",
   "source": [
    "Gather relevant documents\n",
    "---\n",
    "Execute a similarity search between the query and the vector database to find the 2 most relevant documents."
   ],
   "id": "bad920b8f4363380"
  },
  {
   "metadata": {
    "ExecuteTime": {
     "end_time": "2025-05-13T13:19:41.513695Z",
     "start_time": "2025-05-13T13:19:41.363389Z"
    }
   },
   "cell_type": "code",
   "source": [
    "relevant_documents = vector_store.similarity_search(query, k=10)\n",
    "\n",
    "print(f\"Vraag: {query}\")\n",
    "print(f\"Relevante documenten: \")\n",
    "\n",
    "for document in relevant_documents:\n",
    "    print(f\" \\n-->   {document.page_content} \\n\")"
   ],
   "id": "4adbc82805a35738",
   "outputs": [
    {
     "name": "stdout",
     "output_type": "stream",
     "text": [
      "Vraag: Vind het verweving percentage van de gemeente?\n",
      "Relevante documenten: \n",
      " \n",
      "-->   het type water of groen. Naar schatting zijn kopers bereid gemiddeld 7% meer te betalen voor hun woning als deze direct \n",
      "grenst aan openbaar groen of water. Een vrij uitzicht op de open ruimte leidt tot 12% prijsverhoging, terwijl de aanwezigheid van aantrekkelijke natuur in de buurt van de woonplaats een waardestijging oplevert van 5% tot 10%. Een bijzonder geval zijn huizen met tuinen grenzend aan water dat in verbinding staat met een recreatieplas; voor deze woningen kan de waarde­stijging oplopen tot bijna 30%. \n",
      "De baten van groen worden steeds meer duidelijk. Toch komen concrete projecten soms nog moeilijk van de grond. Een \n",
      "reden daarvoor is dat de waarde van groen nog maar beperkt kwantitatief is gemaakt. Dit maakt het lastig om groen onder ­\n",
      "deel te laten zijn van een business case. In het kader van TEEB ­s tad (The Economics of Ecosystems and Biodiversity) en \n",
      "\n",
      " \n",
      "-->   vuilconcentratie.\n",
      "In ieder geval is aangetoond dat de luchtkwaliteit in stadsparken en stadsbossen beter is dan in het be -\n",
      "bouwd gebied daaromheen. [CROW, 2011]. Om echt \n",
      "een positief resultaat te bereiken is het van belang \n",
      "een groot bestand te hebben van diverse soorten gezonde bomen om de luchtverontreiniging op ver -\n",
      "schillende fronten te kunnen bestrijden. Dat groen \n",
      "in sommige gevallen luchtverontreiniging juist kan \n",
      "vasthouden is een aandachtspunt bij de inrichting. Het is altijd beter om de problemen bij de bron aan \n",
      "te pakken, zodat er minder uitstoot is van schade -\n",
      "lijke stoffen. Groen kan daar een bijdrage in leveren \n",
      "door bijvoorbeeld de fiets aantrekkelijker te maken \n",
      "met groene routes.\n",
      "Een volwassen beuk op een knelpunt haalt circa 13 maal \n",
      "meer fijnstof uit de lucht (1.300 gram per jaar) dan een jonge beuk (100 gram fijnstof per jaar). Een stadsboom van \n",
      "20­25 jaar  vangt gemiddeld 100 gram fijnstof per jaar af. Eén \n",
      "\n",
      " \n",
      "-->   groen bijvoorbeeld niet toegankelijk is of zelfs niet zichtbaar vanaf de straat. Dit kan resulteren in een lagere bele -\n",
      "vingswaarde. Maar tegelijkertijd heeft dit groen wel degelijk een waarde op gebied van klimaatadaptatie en vesti-gingsklimaat, die vergelijkbaar is met het groen op maaiveld.\n",
      "intermezzo\n",
      "Uit onderzoek (Jókövi E.M. & Luttik J.; Rood en groen ­ Het combineren van verstedelijking en natuur in de praktijk; \n",
      " Wageningen, 2003) is gebleken dat de waardestijging varieert van 4% tot 12%, afhankelijk van de ligging van de woning en \n",
      "het type water of groen. Naar schatting zijn kopers bereid gemiddeld 7% meer te betalen voor hun woning als deze direct \n",
      "\n",
      " \n",
      "-->   Stad, rood  \n",
      "beeldbepalendStad, groen  \n",
      "beeldbepalendIntegrale ontwikkeling  \n",
      "rood - groen\n",
      "Rood groen Verweving\n",
      "Groen tussen roodVerwevingRood tussen groenVerweving: groen 60% - rood 40%\n",
      "Betreft Merendeel stedelijk \n",
      "gebied.Stedelijk gebied met uitgesproken groen karakter, altijd in \n",
      "aansluiting op hoofd-\n",
      "groenstructuur.Groenstructuur in buitengebied waar mogelijkheden voor rode ontwikkeling zijn\n",
      "Rol Groen qua ruimtebe -\n",
      "slag en beeld onder -\n",
      "geschikt aan stedelijk \n",
      "weefsel.Versterken van de \n",
      "hoofdgroenstructuur: wiggen en groene \n",
      "dooraderingTijdelijke strategie als rand-\n",
      "voorwaarde voor de mogelijk toekomstige ontwikkeling\n",
      "Bouwen Bouwen primair, groen ondersteuntBouwen kan maar groen karakter cen-\n",
      "traalBalans maatwerk\n",
      "Bijzonderheden Kent subcategorie \n",
      "met extreem weinig groen: groenarme \n",
      "buurten.\n",
      "Focus op kwaliteit in-dien oppervlak groen \n",
      "beperktVerweving is:\n",
      "- kleinschalig\n",
      "- grootschalig \n",
      "\n",
      " \n",
      "-->   vinden. \n",
      "Om per soort levensvatbare populaties te kunnen \n",
      "opbouwen is ook voldoende ruimte nodig, zodat \n",
      "de aanwezigheid van een soort niet afhangt van \n",
      "de overleving van slechts een handvol individuen. Doordat klimaatverandering tot extreem weer gaat leiden, is het belangrijk dat populaties ‘op sterkte’ \n",
      "zijn. Dat kan alleen als er voldoende ruimte voor die \n",
      "populaties is.\n",
      "Aandacht voor voldoende groenareaal is juist in \n",
      "de huidige tijd hard nodig. Zowel in de publieke als private ruimte lijkt het erop dat het groenareaal de \n",
      " komende jaren zal afnemen. Eindhoven wil door -\n",
      "groeien naar 300.000 inwoners, waarbij de vraag \n",
      "rijst of er evenveel ruimte blijft voor groen. De trend \n",
      "van betegeling van particuliere tuinen (zie: kader educatie, operatie Steenbreek) en andere trends vormen een bedreiging voor de instandhouding \n",
      "van het huidige groenareaal en daarmee de huidige \n",
      "soortenrijkdom maar ook voor de mogelijkheid van het groen om een klimaatadaptieve stad te onder -\n",
      "steunen. \n",
      "\n",
      " \n",
      "-->   ding is. Het groen moet het water van heftige regenbuien kunnen opvangen en water vasthouden voor drogere \n",
      "periodes. Op bepaalde stenige plekken moet de toevoeging van vooral grote bomen zorgen voor verkoeling, dit om gezondheidsproblemen als gevolg van hitte te voorkomen (hittestress). Grote volwassen bomen zijn ook dragers \n",
      "van de groenstructuur. Als de ruimte beperkt is, is met een grote boom veel winst te halen, zowel voor ruimtelijke \n",
      "kwaliteit, natuur als klimaatadaptatie. Belangrijk is wel dat de boom onder- en bovengronds voldoende ruimte heeft om ook uit te groeien tot zo’n grote waardevolle boom. \n",
      "beleid| 89Groenarme gebieden\n",
      "Binnen de strategie ‘Stad, rood beeldbepalend’ zijn ‘groenarme’ gebieden te onderscheiden. Dit zijn gebieden met \n",
      "een groenareaal onder de landelijke norm  van 75 m2 per woning. Dit geldt voor een aantal woon  buur ten en bedrij - \n",
      "\n",
      " \n",
      "-->   meer fijnstof uit de lucht (1.300 gram per jaar) dan een jonge beuk (100 gram fijnstof per jaar). Een stadsboom van \n",
      "20­25 jaar  vangt gemiddeld 100 gram fijnstof per jaar af. Eén \n",
      "m2 gevelgroen vangt jaarlijks 4 tot 6 gram af. Een volledig \n",
      "met klimop begroeide muur van 16 ­1 7 m2 heeft een verwij ­\n",
      "deringscapaciteit van fijnstof die vergelijkbaar is met één gemiddelde stadsboom. Eén m2 mos verwijdert jaarlijks 14 gram fijnstof. Mos en klimop zijn plantensoorten die ’s winters groen blijven.Groenblijvende planten verwijderen het fijnstof ook in de wintermaanden en zijn jaarrond dus effectiever dan niet groenblijvende bomen. Naar schatting verwijdert een groendak met Sedum daarentegen 0,15 gram fijn stof per m2. Een opmerkelijke waarneming in Goirle was dat de grootste boom zeventig keer meer fijnstof verwijderde dan de kleinste. Grotere bomen hebben meer blad en een gro ­ \n",
      "\n",
      " \n",
      "-->   kaartje dient voor hun kantoor. Omdat de gemeente niet alle groen in bezit heeft is het van belang om in gesprek te \n",
      "gaan met andere actoren. \n",
      "In de regio Eindhoven werken partijen vaak samen in de zogenaamde quadruple helix: bedrijfsleven, kennis- en \n",
      "onderwijsinstellingen, overheid én bewoner. De verschillende natuurgebieden rondom Eindhoven worden beheerd \n",
      "en ontwikkeld in een samenwerking met allerlei regionale partijen, niet alleen gemeentes maar ook waterschappen, \n",
      "natuur- en terreinbeherende instanties, etc. Ook binnen de gemeente richten diverse disciplines samen de schaar -\n",
      "se ruimte in en worden integrale afwegingen gemaakt. \n",
      "Door het proces van initiatief, ontwerp, realisatie en beheer samen goed vorm te geven en goede afspraken te ma-\n",
      "ken worden de groene ambities beter verankerd in concrete projecten. \n",
      "De ambitie voor samenwerking bestaat uit de volgende onderdelen:\n",
      "Algemeen \n",
      "\n",
      " \n",
      "-->   zing van de EHS direct doorwerkt naar het \n",
      "bestemmingsplan (zie beleid provincie, Verordening Ruimte). groenarme gebieden\n",
      "Landelijk wordt een richtlijn gehanteerd dat er per \n",
      "woning minimaal 75m2 openbaar groen moet zijn. Met minder dan 75m2 is er sprake van een groenarm gebied. (Nota Ruimte VROM 2005). De hoeveelheid van 75 m2 is gebaseerd op de mogelijkheid om in dit groen te kunnen recreëren en ontspannen en de mogelijkheid waarin dit groen kan zorgen voor verbindingen met het (groene) buitengebied. Zoals vaak het geval is bij Rijksbeleid is daarbij vooral gekeken naar de grote steden in het land dus naar sterk verstedelijkte gebieden. Aanvullend op deze 75 m2 groen in woonomgeving, bestaat de behoefte aan grote groene ruimten buiten de stad in de stadsran­den en het buitengebied.Hoe we in Eindhoven met deze norm omgaan krijgt \n",
      "een nadere uitwerking in de ontwerpricht  lijnen . In het \n",
      "algemeen geldt voor nieuwe  initia tieven dat er zo min \n",
      "\n",
      " \n",
      "-->   zijn andere kernbegrippen die bepalend zijn voor de stad van de toekomst. De gemeente wil een faciliterende en \n",
      "stimulerende rol spelen in dit proces en staat welwillend tegenover nieuwe initiatieven in de binnenstad. Naast de gemeente zijn er daarom hele diverse stakeholders betrokken bij deze binnenstadsvisie.Er zijn acht concrete strategielijnen gedefinieerd waarmee de stad Eindhoven aan de slag kan, waarvan de eerste \n",
      "vooral van belang is voor en ondersteunend aan het groenbeleid. \n",
      " 1. Natuurlijke verstedelijking\n",
      "De binnenstad vereist een duurzame openbare ruimte. Ruimte die uitnodigt om te verblijven, te ontmoeten en te \n",
      "ontspannen. Je vindt er betekenisvolle plaatsen, ontworpen vanuit de menselijke maat. We verkiezen groen boven \n",
      "grijs. We zetten de komende jaren in op gezonde verstedelijking met meer groen en water. Niet alleen op het ‘maai- \n",
      "\n"
     ]
    }
   ],
   "execution_count": 10
  },
  {
   "metadata": {},
   "cell_type": "markdown",
   "source": [
    "Analyze the relevant documents and answer the question\n",
    "---\n",
    "The last step is to create a question and answer chain where the chosen llm can actually answer the question."
   ],
   "id": "40e5066903a6e944"
  },
  {
   "metadata": {
    "ExecuteTime": {
     "end_time": "2025-05-13T13:19:45.984046Z",
     "start_time": "2025-05-13T13:19:44.370258Z"
    }
   },
   "cell_type": "code",
   "source": [
    "qa_chain = RetrievalQA.from_chain_type(\n",
    "    llm=chosen_llm,\n",
    "    chain_type=\"stuff\",  # of \"map_reduce\" bij grote documenten\n",
    "    retriever=vector_store.as_retriever(search_kwargs={\"k\": 10}),\n",
    "    return_source_documents=True\n",
    ")\n",
    "\n",
    "result = qa_chain(query)\n",
    "\n",
    "print(\"Vraag:\", query)\n",
    "print(\"Antwoord:\", result['result'])"
   ],
   "id": "61df5681588f515b",
   "outputs": [
    {
     "name": "stdout",
     "output_type": "stream",
     "text": [
      "Vraag: Vind het verweving percentage van de gemeente?\n",
      "Antwoord: Het verweving percentage van de gemeente is 60% groen en 40% rood.\n"
     ]
    }
   ],
   "execution_count": 11
  }
 ],
 "metadata": {
  "kernelspec": {
   "display_name": "Python 3",
   "language": "python",
   "name": "python3"
  },
  "language_info": {
   "codemirror_mode": {
    "name": "ipython",
    "version": 2
   },
   "file_extension": ".py",
   "mimetype": "text/x-python",
   "name": "python",
   "nbconvert_exporter": "python",
   "pygments_lexer": "ipython2",
   "version": "2.7.6"
  }
 },
 "nbformat": 4,
 "nbformat_minor": 5
}
