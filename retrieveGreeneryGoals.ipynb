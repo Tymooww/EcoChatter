{
 "cells": [
  {
   "metadata": {},
   "cell_type": "markdown",
   "source": [
    "Retrieving (unstructured) greenery goals\n",
    "---\n",
    "This notebook retrieves a document with greenery goals in it. This document will be chuncked and then be stored in a vector database. At last it will do execute a similarity search to find relevant documents and it will then use these to find the answer for the question.\n"
   ],
   "id": "e9eb7d5fa39038fb"
  },
  {
   "metadata": {},
   "cell_type": "markdown",
   "source": [
    "Imports\n",
    "---"
   ],
   "id": "308e71c660a7ab23"
  },
  {
   "metadata": {
    "ExecuteTime": {
     "end_time": "2025-05-05T15:40:41.292691Z",
     "start_time": "2025-05-05T15:40:41.264500Z"
    }
   },
   "cell_type": "code",
   "source": [
    "from langchain_huggingface import HuggingFaceEmbeddings\n",
    "from langchain.chains.retrieval_qa.base import RetrievalQA\n",
    "from langchain.text_splitter import CharacterTextSplitter\n",
    "from langchain.vectorstores import FAISS\n",
    "\n",
    "from langchain_community.docstore import InMemoryDocstore\n",
    "\n",
    "from langchain_openai import AzureChatOpenAI\n",
    "from langchain_ollama import ChatOllama\n",
    "\n",
    "from dotenv import load_dotenv\n",
    "from PyPDF2 import PdfReader\n",
    "from uuid import uuid4\n",
    "\n",
    "import os\n",
    "import faiss"
   ],
   "id": "48fe2553ab822baf",
   "outputs": [],
   "execution_count": 87
  },
  {
   "metadata": {},
   "cell_type": "markdown",
   "source": [
    "Load a large language model\n",
    "----------\n",
    "Langchain makes it possible to easily switch LLMs. Llama 3 is used to show the data can be analysed with a locally running open-source model, but it is very slow. So to speed it up I also used o3-mini and gpt-4o-mini to show it works.\n",
    "\n",
    "Load Llama3:\n"
   ],
   "id": "b05e975155a0d7e1"
  },
  {
   "metadata": {
    "ExecuteTime": {
     "end_time": "2025-05-05T11:04:27.361004Z",
     "start_time": "2025-05-05T11:04:27.251353Z"
    }
   },
   "cell_type": "code",
   "source": "chosen_llm = ChatOllama(base_url='http://localhost:11434', model=\"llama3\")",
   "id": "a1a4046e1a641a9b",
   "outputs": [],
   "execution_count": 2
  },
  {
   "metadata": {},
   "cell_type": "markdown",
   "source": "Load o3-mini (via Azure):",
   "id": "f77781c99b48898a"
  },
  {
   "metadata": {
    "ExecuteTime": {
     "end_time": "2025-04-14T11:13:24.386850Z",
     "start_time": "2025-04-14T11:13:24.270392Z"
    }
   },
   "cell_type": "code",
   "source": [
    "load_dotenv()\n",
    "\n",
    "chosen_llm = AzureChatOpenAI(model =\"o3-mini\", api_version=\"2025-01-01-preview\", azure_endpoint=\"https://56948-m9bdjgpg-eastus2.cognitiveservices.azure.com/openai/deployments/o3-mini/chat/completions?api-version=2025-01-01-preview\", api_key=os.environ.get(\"AZURE_OPENAI_API_KEY\"))"
   ],
   "id": "dae3e6325e0ba1a2",
   "outputs": [],
   "execution_count": 3
  },
  {
   "metadata": {},
   "cell_type": "markdown",
   "source": "Load gpt-4o-mini (via Azure)",
   "id": "5a9dce9213b110dd"
  },
  {
   "metadata": {
    "ExecuteTime": {
     "end_time": "2025-05-05T11:04:34.663895Z",
     "start_time": "2025-05-05T11:04:34.531451Z"
    }
   },
   "cell_type": "code",
   "source": [
    "load_dotenv()\n",
    "\n",
    "chosen_llm = AzureChatOpenAI(model=\"gpt-4o-mini\", api_version=\"2025-01-01-preview\",\n",
    "                             azure_endpoint=\"https://56948-m9bdjgpg-eastus2.cognitiveservices.azure.com/openai/deployments/gpt-4o-mini/chat/completions?api-version=2025-01-01-preview\",\n",
    "                             api_key=os.environ.get(\"AZURE_OPENAI_API_KEY\"))"
   ],
   "id": "260f70cc78667853",
   "outputs": [],
   "execution_count": 3
  },
  {
   "metadata": {},
   "cell_type": "markdown",
   "source": [
    "Define the question\n",
    "---\n",
    "Write the question that needs to be answered by the LLM."
   ],
   "id": "e768ea590e0e254b"
  },
  {
   "metadata": {
    "ExecuteTime": {
     "end_time": "2025-05-05T15:46:43.558263Z",
     "start_time": "2025-05-05T15:46:43.542480Z"
    }
   },
   "cell_type": "code",
   "source": "query = \"Hoeveel straattegels moeten er vevangen worden door groen?\"",
   "id": "40da5abe0bfdbca1",
   "outputs": [],
   "execution_count": 88
  },
  {
   "metadata": {},
   "cell_type": "markdown",
   "source": [
    "Load and chunk the document\n",
    "---\n",
    "It loads the pdf, extracts the text and chunks it into pieces."
   ],
   "id": "b787bdc25e6a4356"
  },
  {
   "metadata": {
    "ExecuteTime": {
     "end_time": "2025-05-05T13:34:32.163899Z",
     "start_time": "2025-05-05T13:34:31.027599Z"
    }
   },
   "cell_type": "code",
   "source": [
    "# Load file\n",
    "file_path = \"./GroenvisieSchiedam.pdf\"\n",
    "doc_reader = PdfReader(file_path)\n",
    "\n",
    "# Extract page content\n",
    "raw_text = ''\n",
    "for i, page in enumerate(doc_reader.pages):\n",
    "    text = page.extract_text()\n",
    "    if text:\n",
    "        raw_text += text\n",
    "\n",
    "print(\"raw text characters: \" + str(len(raw_text)))\n",
    "\n",
    "# Split the page content into chunks\n",
    "text_splitter = CharacterTextSplitter(\n",
    "    separator = \"\\n\",\n",
    "    chunk_size = 833,\n",
    "    chunk_overlap  = 200,\n",
    "    length_function = len,\n",
    ")\n",
    "chunks = text_splitter.split_text(raw_text)\n",
    "\n",
    "print(\"chunk text characters: \" + str(len(chunks)))\n"
   ],
   "id": "c5e7d02b9b61ddd0",
   "outputs": [
    {
     "name": "stdout",
     "output_type": "stream",
     "text": [
      "raw text characters: 9039\n",
      "chunk text characters: 15\n"
     ]
    }
   ],
   "execution_count": 61
  },
  {
   "metadata": {},
   "cell_type": "markdown",
   "source": [
    "Generate embeddings and save them in the vector database\n",
    "---\n",
    "Create a vector database, generate embeddings for the chunks and save the embeddings in the newly created vector database."
   ],
   "id": "9bf30886ef8d901b"
  },
  {
   "metadata": {
    "ExecuteTime": {
     "end_time": "2025-05-05T15:00:54.783736Z",
     "start_time": "2025-05-05T15:00:51.510083Z"
    }
   },
   "cell_type": "code",
   "source": [
    "embedding_model = HuggingFaceEmbeddings(model_name=\"sentence-transformers/all-MiniLM-L6-v2\")\n",
    "index = faiss.IndexFlatL2(len(embedding_model.embed_query(chunks[0]))) # Calculates the amount of dimensions the chunk's vector has\n",
    "\n",
    "vector_store = FAISS(\n",
    "    embedding_function=embedding_model,\n",
    "    index=index,\n",
    "    docstore=InMemoryDocstore(),\n",
    "    index_to_docstore_id={},\n",
    ")\n",
    "\n",
    "uuids = []\n",
    "for chunk in range(len(chunks)):\n",
    "    uuids.append(str(uuid4()))\n",
    "\n",
    "vector_store.add_texts(texts=chunks, ids=uuids)\n",
    "\n",
    "print(\"UUIDs of items stored in vector database: \" + str(uuids))\n"
   ],
   "id": "d568cc81e616a98f",
   "outputs": [
    {
     "name": "stdout",
     "output_type": "stream",
     "text": [
      "UUIDs of items stored in vector database: ['052fb115-8b29-4a49-b135-d5f1eb8887ce', '5589ffd4-8217-4fc9-a060-bc5f37e195bf', '3104cef4-5191-42ad-8a33-22e0a5c29814', '9580a592-5f27-42ae-bf5b-be6b3635fa80', 'd2d4d3eb-4197-4bee-bb3d-7cdc9888b1d3', '87a38a9e-5b29-4346-a4c3-4b783f504311', 'f7a5f8de-1233-43e3-9944-a28cca6243b5', '0e287dc4-c284-42ce-943a-5b4d3fbaaf5e', '33c05eb9-4671-44da-8edf-cd21860f93e8', '0faa5e74-232e-42d1-a9ca-2a435e6364d4', 'e9d0e2e7-5df1-449b-8e8f-50d485aa2394', '830c7cc7-93c9-4e12-ba71-6e3e14c19bd2', 'ea3ff7da-ea55-4933-be54-0c2d18c6a9e2', 'ab855ffc-34fa-4b4b-9f4a-72db995d3855', 'e9e85cbc-e7d8-47b3-b04b-63e6756c8548']\n"
     ]
    }
   ],
   "execution_count": 64
  },
  {
   "metadata": {},
   "cell_type": "markdown",
   "source": [
    "Gather relevant documents\n",
    "---\n",
    "Execute a similarity search between the query and the vector database to find the 2 most relevant documents."
   ],
   "id": "bad920b8f4363380"
  },
  {
   "metadata": {
    "ExecuteTime": {
     "end_time": "2025-05-05T15:28:18.755221Z",
     "start_time": "2025-05-05T15:28:18.693180Z"
    }
   },
   "cell_type": "code",
   "source": [
    "relevant_documents = vector_store.similarity_search(query, k=2)\n",
    "\n",
    "print(f\"Vraag: {query}\")\n",
    "print(f\"Relevante documenten: \")\n",
    "\n",
    "for document in relevant_documents:\n",
    "    print(f\" \\n-->   {document.page_content} \\n\")"
   ],
   "id": "4adbc82805a35738",
   "outputs": [
    {
     "name": "stdout",
     "output_type": "stream",
     "text": [
      "Vraag: Hoeveel straattegels moeten er vevangen worden door groen?\n",
      "Relevante documenten: \n",
      " \n",
      "-->   We ontwikkelen en/of versterken verbindingen tussen groene gebieden door zoveel mogelijk onverharde paden aan te leggen die kunnen worden gebruikt door wandelaars, hondenbezitters en mountainbikers. \n",
      "De komende jaren maken we voor alle parken – de groene parels – samen met bewoners beheerplannen. \n",
      "Per wijk brengen we belangrijke plekken in kaart, doen we voorstellen ter verbetering en laten we zien hoe we deze kunnen realiseren.  Publieksversie Groenvisie  |  Gemeente Schiedam   \n",
      "    \n",
      "    \n",
      " \n",
      " 9 \n",
      "Visie op toekomst en klimaat 5 \n",
      "Minimaal 5% van de straattegels/klinkers willen we vervangen door groen. \n",
      "Het gaat om ongeveer 10.000 m2. \n",
      "Door directe infiltratie in het groen vergroten we de waterberging in de stad. We stimuleren inwoners om ook regenwater af te koppelen en direct in de eigen tuin te laten infiltreren. \n",
      "\n",
      " \n",
      "-->   Bomen en beplanting hebben voldoende ruimte en goede omstandigheden om te groeien. \n",
      "De Groenblauwe Structuur (water en groen) wordt verder ontwikkeld. \n",
      "De openbare ruimte wordt steeds voller waardoor het groen steeds meer onder druk komt. Een hoog onderhoudsniveau is daarom belangrijk en wordt meegenomen in beheerplannen en financiële ramingen. \n",
      "Groene verbindingen zijn sociaal veilig en van hoge kwaliteit. Samen vormen ze een netwerk dat Schiedam verbindt met de oevers van de Nieuwe Maas en Midden-Delfland. Publieksversie Groenvisie  |  Gemeente Schiedam   \n",
      " \n",
      "   \n",
      "   \n",
      "    \n",
      " \n",
      " \n",
      " 6 \n",
      "Visie op samenwerking 2 \n",
      "Inwoners zijn zich bewust van de groene ontwikkelingen in de stad. \n",
      "We werken een strategie uit waarin communicatie en participatie nadrukkelijk een plek krijgen. \n",
      "\n"
     ]
    }
   ],
   "execution_count": 81
  },
  {
   "metadata": {},
   "cell_type": "markdown",
   "source": [
    "Analyze the relevant documents and answer the question\n",
    "---\n",
    "The last step is to create a question and answer chain where the chosen llm can actually answer the question."
   ],
   "id": "40e5066903a6e944"
  },
  {
   "metadata": {
    "ExecuteTime": {
     "end_time": "2025-05-05T15:40:04.498911Z",
     "start_time": "2025-05-05T15:40:02.878443Z"
    }
   },
   "cell_type": "code",
   "source": [
    "qa_chain = RetrievalQA.from_chain_type(\n",
    "    llm=chosen_llm,\n",
    "    chain_type=\"stuff\",  # of \"map_reduce\" bij grote documenten\n",
    "    retriever=vector_store.as_retriever(search_kwargs={\"k\": 2}),\n",
    "    return_source_documents=True\n",
    ")\n",
    "\n",
    "result = qa_chain(query)\n",
    "\n",
    "print(\"Vraag:\", query)\n",
    "print(\"Antwoord:\", result['result'])\n",
    "print(\"Bronnen: \\n\")\n",
    "for doc in result['source_documents']:\n",
    "    print(doc.page_content)"
   ],
   "id": "61df5681588f515b",
   "outputs": [
    {
     "name": "stdout",
     "output_type": "stream",
     "text": [
      "Vraag: Hoeveel straattegels moeten er vevangen worden door groen?\n",
      "Antwoord: Minimaal 5% van de straattegels/klinkers moeten vervangen worden door groen, wat ongeveer 10.000 m2 betreft.\n",
      "Bronnen: \n",
      "\n",
      "We ontwikkelen en/of versterken verbindingen tussen groene gebieden door zoveel mogelijk onverharde paden aan te leggen die kunnen worden gebruikt door wandelaars, hondenbezitters en mountainbikers. \n",
      "De komende jaren maken we voor alle parken – de groene parels – samen met bewoners beheerplannen. \n",
      "Per wijk brengen we belangrijke plekken in kaart, doen we voorstellen ter verbetering en laten we zien hoe we deze kunnen realiseren.  Publieksversie Groenvisie  |  Gemeente Schiedam   \n",
      "    \n",
      "    \n",
      " \n",
      " 9 \n",
      "Visie op toekomst en klimaat 5 \n",
      "Minimaal 5% van de straattegels/klinkers willen we vervangen door groen. \n",
      "Het gaat om ongeveer 10.000 m2. \n",
      "Door directe infiltratie in het groen vergroten we de waterberging in de stad. We stimuleren inwoners om ook regenwater af te koppelen en direct in de eigen tuin te laten infiltreren.\n",
      "Bomen en beplanting hebben voldoende ruimte en goede omstandigheden om te groeien. \n",
      "De Groenblauwe Structuur (water en groen) wordt verder ontwikkeld. \n",
      "De openbare ruimte wordt steeds voller waardoor het groen steeds meer onder druk komt. Een hoog onderhoudsniveau is daarom belangrijk en wordt meegenomen in beheerplannen en financiële ramingen. \n",
      "Groene verbindingen zijn sociaal veilig en van hoge kwaliteit. Samen vormen ze een netwerk dat Schiedam verbindt met de oevers van de Nieuwe Maas en Midden-Delfland. Publieksversie Groenvisie  |  Gemeente Schiedam   \n",
      " \n",
      "   \n",
      "   \n",
      "    \n",
      " \n",
      " \n",
      " 6 \n",
      "Visie op samenwerking 2 \n",
      "Inwoners zijn zich bewust van de groene ontwikkelingen in de stad. \n",
      "We werken een strategie uit waarin communicatie en participatie nadrukkelijk een plek krijgen.\n"
     ]
    }
   ],
   "execution_count": 86
  }
 ],
 "metadata": {
  "kernelspec": {
   "display_name": "Python 3",
   "language": "python",
   "name": "python3"
  },
  "language_info": {
   "codemirror_mode": {
    "name": "ipython",
    "version": 2
   },
   "file_extension": ".py",
   "mimetype": "text/x-python",
   "name": "python",
   "nbconvert_exporter": "python",
   "pygments_lexer": "ipython2",
   "version": "2.7.6"
  }
 },
 "nbformat": 4,
 "nbformat_minor": 5
}
