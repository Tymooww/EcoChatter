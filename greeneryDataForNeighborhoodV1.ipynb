{
 "cells": [
  {
   "metadata": {},
   "cell_type": "markdown",
   "source": [
    "Version 1.0\n",
    "---\n",
    "A JSON agent that explores a greenery dataset. Has problems finding neighborhoods that are further down in the file because of an iteration limit."
   ],
   "id": "7abc6666a48ad428"
  },
  {
   "metadata": {},
   "cell_type": "markdown",
   "source": [
    "Imports\n",
    "---"
   ],
   "id": "308e71c660a7ab23"
  },
  {
   "metadata": {
    "ExecuteTime": {
     "end_time": "2025-04-14T11:13:23.428603Z",
     "start_time": "2025-04-14T11:13:18.228117Z"
    }
   },
   "cell_type": "code",
   "source": [
    "from langchain_community.agent_toolkits.json.toolkit import JsonToolkit\n",
    "from langchain_community.agent_toolkits.json.base import create_json_agent\n",
    "from langchain_openai import AzureChatOpenAI\n",
    "from langchain_community.tools.json.tool import JsonSpec\n",
    "from langchain_ollama import ChatOllama\n",
    "from dotenv import load_dotenv\n",
    "import requests\n",
    "import os\n",
    "import json"
   ],
   "id": "48fe2553ab822baf",
   "outputs": [],
   "execution_count": 2
  },
  {
   "metadata": {},
   "cell_type": "markdown",
   "source": [
    "Load a large language model\n",
    "----------\n",
    "Langchain makes it possible to easily switch LLMs. Llama 3 is used to show the data can be analysed with a locally running open-source model, but it is very slow (because it runs on a notebook). So to speed it up I also used o3-mini to show it works.\n",
    "\n",
    "Load Llama3:\n"
   ],
   "id": "b05e975155a0d7e1"
  },
  {
   "metadata": {
    "ExecuteTime": {
     "end_time": "2025-04-14T10:33:30.153937Z",
     "start_time": "2025-04-14T10:33:30.056360Z"
    }
   },
   "cell_type": "code",
   "source": "chosen_llm = ChatOllama(base_url='http://localhost:11434', model=\"llama3\")",
   "id": "a1a4046e1a641a9b",
   "outputs": [],
   "execution_count": 11
  },
  {
   "metadata": {},
   "cell_type": "markdown",
   "source": "Load o3-mini (via Azure):",
   "id": "f77781c99b48898a"
  },
  {
   "metadata": {
    "ExecuteTime": {
     "end_time": "2025-04-14T11:13:24.386850Z",
     "start_time": "2025-04-14T11:13:24.270392Z"
    }
   },
   "cell_type": "code",
   "source": [
    "load_dotenv()\n",
    "\n",
    "chosen_llm = AzureChatOpenAI(model =\"o3-mini\", api_version=\"2025-01-01-preview\", azure_endpoint=\"https://56948-m9bdjgpg-eastus2.cognitiveservices.azure.com/openai/deployments/o3-mini/chat/completions?api-version=2025-01-01-preview\", api_key=os.environ.get(\"AZURE_OPENAI_API_KEY\"))"
   ],
   "id": "dae3e6325e0ba1a2",
   "outputs": [],
   "execution_count": 3
  },
  {
   "metadata": {
    "ExecuteTime": {
     "end_time": "2025-04-15T08:28:40.702035Z",
     "start_time": "2025-04-15T08:28:40.652436Z"
    }
   },
   "cell_type": "code",
   "source": [
    "load_dotenv()\n",
    "\n",
    "chosen_llm = AzureChatOpenAI(model=\"gpt-4o-mini\", api_version=\"2025-01-01-preview\",\n",
    "                             azure_endpoint=\"https://56948-m9bdjgpg-eastus2.cognitiveservices.azure.com/openai/deployments/gpt-4o-mini/chat/completions?api-version=2025-01-01-preview\",\n",
    "                             api_key=os.environ.get(\"AZURE_OPENAI_API_KEY\"))"
   ],
   "id": "260f70cc78667853",
   "outputs": [],
   "execution_count": 11
  },
  {
   "metadata": {},
   "cell_type": "markdown",
   "source": [
    "Retrieve dataset\n",
    "---\n",
    "Here the dataset is retrieved and stored in a file."
   ],
   "id": "75f2763c0ba578b6"
  },
  {
   "metadata": {
    "ExecuteTime": {
     "end_time": "2025-04-14T11:13:28.864796Z",
     "start_time": "2025-04-14T11:13:27.230656Z"
    }
   },
   "cell_type": "code",
   "source": [
    "dataset = requests.get('https://data.rivm.nl/geo/ank/ows?service=WFS&request=GetFeature&typeName=rivm_2022_groenpercentage_kaart_per_buurt&propertyName=bu_naam,_mean&outputFormat=json').json()\n",
    "\n",
    "# Print dataset to file to inspect it when needed\n",
    "with open('groenPercentagePerBuurt.json', 'w') as file:\n",
    "    json.dump(dataset, file)"
   ],
   "id": "f6a843eb4896fce0",
   "outputs": [],
   "execution_count": 4
  },
  {
   "metadata": {},
   "cell_type": "markdown",
   "source": [
    "Extract properties\n",
    "---\n",
    "Not used anymore, when sending only the properties the agent couldn't understand the context of the data anymore. This resulted in getting the response \"I don't know\" constantly."
   ],
   "id": "592f7fc66d6cd554"
  },
  {
   "metadata": {},
   "cell_type": "code",
   "outputs": [],
   "execution_count": null,
   "source": [
    "properties = []\n",
    "neighborhoodGreenery = {}\n",
    "\n",
    "for feature in dataset[\"features\"]:\n",
    "    properties.append(feature[\"properties\"])\n",
    "\n",
    "for property in properties:\n",
    "    neighborhoodGreenery[property[\"bu_naam\"]] = property[\"_mean\"]"
   ],
   "id": "d7d0c7bcb5139f73"
  },
  {
   "metadata": {},
   "cell_type": "markdown",
   "source": [
    "Create and run the agent\n",
    "---\n",
    "Here the toolkit is created that \"gives\" the dataset to the agent. It also creates the agent itself, what will analyse the dataset when it is executed.\n"
   ],
   "id": "f4fc9eec4fd9d2bb"
  },
  {
   "metadata": {
    "ExecuteTime": {
     "end_time": "2025-04-15T08:38:33.412549Z",
     "start_time": "2025-04-15T08:38:14.820619Z"
    }
   },
   "cell_type": "code",
   "source": [
    "# Create toolkit:\n",
    "json_spec = JsonSpec(dict_=dataset, max_value_length=4000)\n",
    "json_toolkit = JsonToolkit(spec=json_spec)\n",
    "\n",
    "# Create JSON agent\n",
    "json_agent_executor = create_json_agent(\n",
    "    llm=chosen_llm,\n",
    "    toolkit=json_toolkit,\n",
    "    verbose=True\n",
    ")\n",
    "\n",
    "# Run the agent\n",
    "input_text = \"Wat is de _mean waarde van bu_naam De Slank?\"\n",
    "response = json_agent_executor.invoke(input_text, handleParsingErrors=True)\n",
    "print (response)"
   ],
   "id": "15fa21b9639e94f4",
   "outputs": [
    {
     "name": "stdout",
     "output_type": "stream",
     "text": [
      "\n",
      "\n",
      "\u001B[1m> Entering new AgentExecutor chain...\u001B[0m\n",
      "\u001B[32;1m\u001B[1;3mAction: json_spec_list_keys  \n",
      "Action Input: data  \u001B[0m\n",
      "Observation: \u001B[36;1m\u001B[1;3m['type', 'features', 'totalFeatures', 'numberMatched', 'numberReturned', 'timeStamp', 'crs']\u001B[0m\n",
      "Thought:\u001B[32;1m\u001B[1;3mThe keys do not seem to directly explain what I am looking for regarding \"_mean waarde van bu_naam De Slank\". I should explore the \"features\" key as it might contain individual entries that have more information. \n",
      "\n",
      "Action: json_spec_list_keys  \n",
      "Action Input: data[\"features\"]  \u001B[0m\n",
      "Observation: \u001B[36;1m\u001B[1;3mValueError('Value at path `data[\"features\"]` is not a dict, get the value directly.')\u001B[0m\n",
      "Thought:\u001B[32;1m\u001B[1;3mThe \"features\" key does not contain a dictionary but rather a list of items. I need to access the first feature to see if it contains information regarding \"bu_naam De Slank\".\n",
      "\n",
      "Action: json_spec_list_keys  \n",
      "Action Input: data[\"features\"][0]  \u001B[0m\n",
      "Observation: \u001B[36;1m\u001B[1;3mValueError('Value at path `data[\"features\"][0]` is not a dict, get the value directly.')\u001B[0m\n",
      "Thought:\u001B[32;1m\u001B[1;3mThe first feature seems to point to a more complex structure as well. I should retrieve the first feature directly to see what details it contains.\n",
      "\n",
      "Action: json_spec_get_value  \n",
      "Action Input: data[\"features\"][0]  \u001B[0m\n",
      "Observation: \u001B[33;1m\u001B[1;3m{'type': 'Feature', 'id': 'rivm_2022_groenpercentage_kaart_per_buurt.1', 'geometry': None, 'properties': {'bu_naam': 'Binnenstad-Noord', '_mean': 7.720674674163046}}\u001B[0m\n",
      "Thought:\u001B[32;1m\u001B[1;3mThe feature I accessed has a property \"bu_naam\" which is \"Binnenstad-Noord\" and has a mean value of approximately 7.72. I need to check more features to find one that matches \"De Slank\".\n",
      "\n",
      "Action: json_spec_get_value  \n",
      "Action Input: data[\"features\"][1]  \u001B[0m\n",
      "Observation: \u001B[33;1m\u001B[1;3m{'type': 'Feature', 'id': 'rivm_2022_groenpercentage_kaart_per_buurt.2', 'geometry': None, 'properties': {'bu_naam': 'De Schenge', '_mean': 55.968981056131604}}\u001B[0m\n",
      "Thought:\u001B[32;1m\u001B[1;3mThere is no match for \"De Slank\" in the first two features I checked. I need to continue looking for additional features to find the one corresponding to \"De Slank\".\n",
      "\n",
      "Action: json_spec_get_value  \n",
      "Action Input: data[\"features\"][2]  \u001B[0m\n",
      "Observation: \u001B[33;1m\u001B[1;3m{'type': 'Feature', 'id': 'rivm_2022_groenpercentage_kaart_per_buurt.3', 'geometry': None, 'properties': {'bu_naam': 'Streukel-Holten-Genne', '_mean': 82.48907110614155}}\u001B[0m\n",
      "Thought:\u001B[32;1m\u001B[1;3mI am still not finding \"De Slank\". I need to continue checking more features.\n",
      "\n",
      "Action: json_spec_get_value  \n",
      "Action Input: data[\"features\"][3]  \u001B[0m\n",
      "Observation: \u001B[33;1m\u001B[1;3m{'type': 'Feature', 'id': 'rivm_2022_groenpercentage_kaart_per_buurt.4', 'geometry': None, 'properties': {'bu_naam': 'Zuid-Schalkwijkerweg', '_mean': 78.6885473246273}}\u001B[0m\n",
      "Thought:\u001B[32;1m\u001B[1;3mI still have not found \"De Slank\". I will check the next feature to see if it contains the desired information.\n",
      "\n",
      "Action: json_spec_get_value  \n",
      "Action Input: data[\"features\"][4]  \u001B[0m\n",
      "Observation: \u001B[33;1m\u001B[1;3m{'type': 'Feature', 'id': 'rivm_2022_groenpercentage_kaart_per_buurt.5', 'geometry': None, 'properties': {'bu_naam': 'Drempt', '_mean': 50.69178243465976}}\u001B[0m\n",
      "Thought:\u001B[32;1m\u001B[1;3mI have not found \"De Slank\" yet, so I will continue checking more features.\n",
      "\n",
      "Action: json_spec_get_value  \n",
      "Action Input: data[\"features\"][5]  \u001B[0m\n",
      "Observation: \u001B[33;1m\u001B[1;3m{'type': 'Feature', 'id': 'rivm_2022_groenpercentage_kaart_per_buurt.6', 'geometry': None, 'properties': {'bu_naam': 'Schildersbuurt Zuid', '_mean': 9.546575342465754}}\u001B[0m\n",
      "Thought:\u001B[32;1m\u001B[1;3mI still have not encountered \"De Slank\". I will continue checking more features.\n",
      "\n",
      "Action: json_spec_get_value  \n",
      "Action Input: data[\"features\"][6]  \u001B[0m\n",
      "Observation: \u001B[33;1m\u001B[1;3m{'type': 'Feature', 'id': 'rivm_2022_groenpercentage_kaart_per_buurt.7', 'geometry': None, 'properties': {'bu_naam': 'Harderhout II', '_mean': 43.139439723009126}}\u001B[0m\n",
      "Thought:\u001B[32;1m\u001B[1;3mI still have not found \"De Slank\". I will check more features to see if I can find the relevant data.\n",
      "\n",
      "Action: json_spec_get_value  \n",
      "Action Input: data[\"features\"][7]  \u001B[0m\n",
      "Observation: \u001B[33;1m\u001B[1;3m{'type': 'Feature', 'id': 'rivm_2022_groenpercentage_kaart_per_buurt.645', 'geometry': None, 'properties': {'bu_naam': 'Buitengebied Stijbeemden', '_mean': 90.79741975119029}}\u001B[0m\n",
      "Thought:\u001B[32;1m\u001B[1;3mI still have not found \"De Slank\". I will continue checking more features.\n",
      "\n",
      "Action: json_spec_get_value  \n",
      "Action Input: data[\"features\"][8]  \u001B[0m\n",
      "Observation: \u001B[33;1m\u001B[1;3m{'type': 'Feature', 'id': 'rivm_2022_groenpercentage_kaart_per_buurt.1689', 'geometry': None, 'properties': {'bu_naam': 'Julianahaven', '_mean': 18.82585579703386}}\u001B[0m\n",
      "Thought:\u001B[32;1m\u001B[1;3mI still have not found \"De Slank\". I will continue checking more features.\n",
      "\n",
      "Action: json_spec_get_value  \n",
      "Action Input: data[\"features\"][9]  \u001B[0m\n",
      "Observation: \u001B[33;1m\u001B[1;3m{'type': 'Feature', 'id': 'rivm_2022_groenpercentage_kaart_per_buurt.8', 'geometry': None, 'properties': {'bu_naam': 'Verspreide huizen Lutten-Oost', '_mean': 68.51840780365009}}\u001B[0m\n",
      "Thought:\u001B[32;1m\u001B[1;3mI have still not found \"De Slank\". I need to continue searching for the next features to see if I can locate it. \n",
      "\n",
      "Action: json_spec_get_value  \n",
      "Action Input: data[\"features\"][10]  \u001B[0m\n",
      "Observation: \u001B[33;1m\u001B[1;3m{'type': 'Feature', 'id': 'rivm_2022_groenpercentage_kaart_per_buurt.9', 'geometry': None, 'properties': {'bu_naam': 'Kooiwalbos', '_mean': 67.4341661039838}}\u001B[0m\n",
      "Thought:\u001B[32;1m\u001B[1;3mI still have not found \"De Slank\". I will continue checking more features to see if I can find the relevant data.\n",
      "\n",
      "Action: json_spec_get_value  \n",
      "Action Input: data[\"features\"][11]  \u001B[0m\n",
      "Observation: \u001B[33;1m\u001B[1;3m{'type': 'Feature', 'id': 'rivm_2022_groenpercentage_kaart_per_buurt.10', 'geometry': None, 'properties': {'bu_naam': 'Het Eiland', '_mean': 14.184593023255815}}\u001B[0m\n",
      "Thought:\u001B[32;1m\u001B[1;3m\u001B[0m\n",
      "\n",
      "\u001B[1m> Finished chain.\u001B[0m\n",
      "{'input': 'Wat is de _mean waarde van bu_naam De Slank?', 'output': 'Agent stopped due to iteration limit or time limit.'}\n"
     ]
    }
   ],
   "execution_count": 20
  }
 ],
 "metadata": {
  "kernelspec": {
   "display_name": "Python 3",
   "language": "python",
   "name": "python3"
  },
  "language_info": {
   "codemirror_mode": {
    "name": "ipython",
    "version": 2
   },
   "file_extension": ".py",
   "mimetype": "text/x-python",
   "name": "python",
   "nbconvert_exporter": "python",
   "pygments_lexer": "ipython2",
   "version": "2.7.6"
  }
 },
 "nbformat": 4,
 "nbformat_minor": 5
}
