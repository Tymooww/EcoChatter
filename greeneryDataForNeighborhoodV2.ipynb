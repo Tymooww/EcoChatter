{
 "cells": [
  {
   "metadata": {},
   "cell_type": "markdown",
   "source": [
    "Version 2.0\n",
    "---\n",
    "Adresses the iteration limit of the agent from version 1. Agent is now a SQL agent that generates the query for a SQlite database with the dataset stored in it.\n"
   ],
   "id": "e9eb7d5fa39038fb"
  },
  {
   "metadata": {},
   "cell_type": "markdown",
   "source": [
    "Imports\n",
    "---"
   ],
   "id": "308e71c660a7ab23"
  },
  {
   "metadata": {
    "ExecuteTime": {
     "end_time": "2025-06-02T15:24:07.729605Z",
     "start_time": "2025-06-02T15:24:04.515910Z"
    }
   },
   "cell_type": "code",
   "source": [
    "from langchain_community.utilities.sql_database import SQLDatabase\n",
    "from langchain_community.agent_toolkits.sql.toolkit import SQLDatabaseToolkit\n",
    "from langchain.agents import create_sql_agent\n",
    "from sqlalchemy import create_engine\n",
    "from sqlalchemy.pool import StaticPool\n",
    "\n",
    "from langchain_openai import AzureChatOpenAI\n",
    "from langchain_ollama import ChatOllama\n",
    "from dotenv import load_dotenv\n",
    "import requests\n",
    "import os\n",
    "import sqlite3"
   ],
   "id": "48fe2553ab822baf",
   "outputs": [],
   "execution_count": 1
  },
  {
   "metadata": {},
   "cell_type": "markdown",
   "source": [
    "Load a large language model\n",
    "----------\n",
    "Langchain makes it possible to easily switch LLMs. Llama 3 is used to show the data can be analysed with a locally running open-source model, but it is very slow. So to speed it up I also used o3-mini and gpt-4o-mini to show it works.\n",
    "\n",
    "Load Llama3:\n"
   ],
   "id": "b05e975155a0d7e1"
  },
  {
   "metadata": {
    "ExecuteTime": {
     "end_time": "2025-06-02T15:24:08.261627Z",
     "start_time": "2025-06-02T15:24:08.214305Z"
    }
   },
   "cell_type": "code",
   "source": "chosen_llm = ChatOllama(base_url='http://localhost:11434', model=\"llama3\")",
   "id": "a1a4046e1a641a9b",
   "outputs": [],
   "execution_count": 2
  },
  {
   "metadata": {},
   "cell_type": "markdown",
   "source": "Load o3-mini (via Azure):",
   "id": "f77781c99b48898a"
  },
  {
   "metadata": {
    "ExecuteTime": {
     "end_time": "2025-06-02T15:24:08.973270Z",
     "start_time": "2025-06-02T15:24:08.296205Z"
    }
   },
   "cell_type": "code",
   "source": [
    "load_dotenv()\n",
    "\n",
    "chosen_llm = AzureChatOpenAI(model =\"o3-mini\", api_version=\"2025-01-01-preview\", azure_endpoint=\"https://56948-m9bdjgpg-eastus2.cognitiveservices.azure.com/openai/deployments/o3-mini/chat/completions?api-version=2025-01-01-preview\", api_key=os.environ.get(\"AZURE_OPENAI_API_KEY\"))"
   ],
   "id": "dae3e6325e0ba1a2",
   "outputs": [],
   "execution_count": 3
  },
  {
   "metadata": {},
   "cell_type": "markdown",
   "source": "Load gpt-4o-mini (via Azure)",
   "id": "5a9dce9213b110dd"
  },
  {
   "metadata": {
    "ExecuteTime": {
     "end_time": "2025-06-02T15:24:09.036117Z",
     "start_time": "2025-06-02T15:24:09.004600Z"
    }
   },
   "cell_type": "code",
   "source": [
    "load_dotenv()\n",
    "\n",
    "chosen_llm = AzureChatOpenAI(model=\"gpt-4o-mini\", api_version=\"2025-01-01-preview\",\n",
    "                             azure_endpoint=\"https://56948-m9bdjgpg-eastus2.cognitiveservices.azure.com/openai/deployments/gpt-4o-mini/chat/completions?api-version=2025-01-01-preview\",\n",
    "                             api_key=os.environ.get(\"AZURE_OPENAI_API_KEY\"))"
   ],
   "id": "260f70cc78667853",
   "outputs": [],
   "execution_count": 4
  },
  {
   "metadata": {},
   "cell_type": "markdown",
   "source": [
    "Create local SQlite database\n",
    "---\n",
    "The database is created by building a SQlite database and creating a \"database engine\" object that will be used later for creating the agent's toolkit."
   ],
   "id": "742a42304e704597"
  },
  {
   "metadata": {
    "ExecuteTime": {
     "end_time": "2025-06-02T15:24:09.111851Z",
     "start_time": "2025-06-02T15:24:09.065547Z"
    }
   },
   "cell_type": "code",
   "source": [
    "con = sqlite3.connect(\"greenery.db\", check_same_thread=False)\n",
    "cur = con.cursor()\n",
    "\n",
    "# Create neighborhoods table in database\n",
    "try:\n",
    "    cur.execute(\"CREATE TABLE neighborhoods(name varchar(255), greeneryPercentage float)\")\n",
    "    print(\"Table created successfully.\")\n",
    "\n",
    "except:\n",
    "    cur.execute(\"DROP TABLE neighborhoods\")\n",
    "    cur.execute(\"CREATE TABLE neighborhoods(name varchar(255), greeneryPercentage float)\")\n",
    "    print(\"Table has been reset, because it already existed.\")\n",
    "\n",
    "# Create database engine object\n",
    "engine = create_engine(\n",
    "        \"sqlite://\",\n",
    "        creator=lambda: con,\n",
    "        poolclass=StaticPool,\n",
    "        connect_args={\"check_same_thread\": False},\n",
    "    )\n",
    "db = SQLDatabase(engine)"
   ],
   "id": "9b073020630bf673",
   "outputs": [
    {
     "name": "stdout",
     "output_type": "stream",
     "text": [
      "Table created successfully.\n"
     ]
    }
   ],
   "execution_count": 5
  },
  {
   "metadata": {},
   "cell_type": "markdown",
   "source": [
    "Extract properties and save them in the database\n",
    "---\n",
    "The dataset is retrieved via an API-request and is then stored in the SQlite database."
   ],
   "id": "592f7fc66d6cd554"
  },
  {
   "metadata": {
    "ExecuteTime": {
     "end_time": "2025-06-02T15:24:09.955709Z",
     "start_time": "2025-06-02T15:24:09.128255Z"
    }
   },
   "cell_type": "code",
   "source": [
    "# Retrieve dataset\n",
    "dataset = requests.get('https://data.rivm.nl/geo/ank/ows?service=WFS&request=GetFeature&typeName=rivm_2022_groenpercentage_kaart_per_buurt&propertyName=bu_naam,_mean&outputFormat=json').json()\n",
    "\n",
    "# Extract properties and put them into a list\n",
    "properties = []\n",
    "for feature in dataset[\"features\"]:\n",
    "    property = feature[\"properties\"]\n",
    "    properties.append((property[\"bu_naam\"], property[\"_mean\"]))\n",
    "\n",
    "# Save the items stored in the list into the database\n",
    "i=0\n",
    "while i < len(properties):\n",
    "    cur.execute(\"INSERT INTO neighborhoods VALUES (?,?)\", properties[i])\n",
    "    i = i + 1\n",
    "con.commit()"
   ],
   "id": "d7d0c7bcb5139f73",
   "outputs": [],
   "execution_count": 6
  },
  {
   "metadata": {},
   "cell_type": "markdown",
   "source": [
    "Create and run the agent\n",
    "---\n",
    "Here the toolkit is created that \"gives\" the database to the agent. It also creates the agent itself, what will analyse the database and create a query for it to answer the question when it is executed.\n"
   ],
   "id": "f4fc9eec4fd9d2bb"
  },
  {
   "metadata": {
    "ExecuteTime": {
     "end_time": "2025-06-02T15:24:18.537212Z",
     "start_time": "2025-06-02T15:24:09.979438Z"
    }
   },
   "cell_type": "code",
   "source": [
    "# Create toolkit:\n",
    "toolkit = SQLDatabaseToolkit(db=db,llm=chosen_llm)\n",
    "\n",
    "# Create agent\n",
    "agent_executor = create_sql_agent(\n",
    "    llm=chosen_llm,\n",
    "    toolkit=toolkit,\n",
    "    verbose=True\n",
    ")\n",
    "\n",
    "# Run the agent\n",
    "input_text = \"Using the neighborhoods table, find the greenery percentage of the neighborhood with name Heerewaardan. If you can't find anything, check if the user made a spelling error in the neighborhood name and check if you can find the neighborhood with the corrected name, this should be a neighborhood that has only one or two letters different.\"\n",
    "response = agent_executor.invoke(input_text, handleParsingErrors=True)\n",
    "print (response)"
   ],
   "id": "15fa21b9639e94f4",
   "outputs": [
    {
     "name": "stdout",
     "output_type": "stream",
     "text": [
      "\n",
      "\n",
      "\u001B[1m> Entering new SQL Agent Executor chain...\u001B[0m\n",
      "\u001B[32;1m\u001B[1;3mAction: sql_db_list_tables  \n",
      "Action Input: \"\"  \u001B[0m\u001B[38;5;200m\u001B[1;3mneighborhoods\u001B[0m\u001B[32;1m\u001B[1;3mI will now check the schema of the neighborhoods table to see the relevant columns for the query.  \n",
      "Action: sql_db_schema  \n",
      "Action Input: neighborhoods  \u001B[0m\u001B[33;1m\u001B[1;3m\n",
      "CREATE TABLE neighborhoods (\n",
      "\tname VARCHAR(255), \n",
      "\t\"greeneryPercentage\" FLOAT\n",
      ")\n",
      "\n",
      "/*\n",
      "3 rows from neighborhoods table:\n",
      "name\tgreeneryPercentage\n",
      "Binnenstad-Noord\t7.720674674163046\n",
      "De Schenge\t55.968981056131604\n",
      "Streukel-Holten-Genne\t82.48907110614155\n",
      "*/\u001B[0m\u001B[32;1m\u001B[1;3mThe neighborhood \"Heerewaardan\" doesn't appear to exist, but I should check if there's a similar name. I will look for neighborhoods that have names differing by one or two letters. \n",
      "\n",
      "I'll first query the existing neighborhood names to find possible matches.  \n",
      "\n",
      "Action: sql_db_query  \n",
      "Action Input: SELECT name FROM neighborhoods WHERE name LIKE '%eer%' OR name LIKE '%waardan%';  \u001B[0m\u001B[36;1m\u001B[1;3m[('Oostelbeers',), ('Bedrijventerrein Middenmeer',), (\"'s-Heerenberg\",), ('Verspreide huizen Berg en Nederweerterdijk',), ('Blokweer Noord',), ('Legmeer',), ('Meerdervoort',), ('Beerta-Centrum-West',), ('Eerbeekse Enk',), ('Meerwede Noordwest',), ('Kern Ommen - Alteveer Voorzieningen',), ('Zwaansmeer',), ('Kern Ommen - Alteveer Bedrijven',), ('Verspreide huizen Neeritter',), ('Bedrijvenpark Gooimeer-Zuid',), ('Beers buitengebied',), (\"'s-Heer-Arendskerke\",), ('s Heerenloo',), ('Huis de Geer',), ('Verspreide huizen Zwartemeer',), ('Het meer',), ('Verspreide huizen Illikhoven en Visserweert',), ('Heerewaarden',), ('Waskemeer',), ('Tjamsweer',), ('Legemeer',), ('Meerwijkplas',), ('Bosgebied Meerveld',), ('Buitengebied Middenmeer',), ('Nieuw-Vossemeer',), ('Wijkermeerbuurt',), ('Meerwede Zuidoost',), ('Pastoor Lemeerstraat en omgeving',), ('Leersumse Veld-De Kop',), ('Berkmeerdijk',), ('Boxmeer Centrum',), ('Bedrijventerrein De Meeren',), ('Horstermeer',), ('Hoogmeer',), ('Papenveer',), ('Verspreide huizen Heereveld',), ('Verspreide huizen Middelbeers',), ('Eemmeer-Blaricum',), ('Naardermeerkwartier',), ('Benedenveer',), ('Veerallee',), ('Veerplein - Oostkeetshaven',), ('Beerendrecht',), ('Heerlerbaan-West',), ('Waarden en weerdslag',), ('Verspreide huizen Alteveer',), ('Badhoevedorp Nieuwe Meer',), ('Meeroevers',), ('Neerkant',), ('Landweert 2',), ('Geertruidenberg-West',), ('Vroonermeer-Zuid',), ('Meerbos',), ('Leerdam buitengebied',), ('Boeimeer',), ('Bedrijventerrein Eersel',), ('Sappemeer-Oost',), ('Geerestein',), ('Garreweer',), ('Scheemdermeer',), ('Meerveldhoven',), ('Meerenburgh',), ('Weerestraat en omgeving',), ('Verspreide huizen Neer',), (\"'s-Heerenberg, oostelijke uitbreiding\",), ('Leersum-Dorp',), ('Wormerveer Zuid',), ('Leerdam centrum noord',), ('Kern Beerzerveld',), ('Poldergebied Geervliet',), ('Het Veer en omgeving',), ('Zeerijp',), ('Middenveer',), ('Meerburg',), ('Eerste Kruisdiep',), ('Geertruidenberg-Noord',), ('Leerbroek buitengebied zuid',), ('Hornmeer',), ('Zuidlaardermeer',), ('Buurtschap Meer',), ('Veerse Meer',), ('Landweert 1',), ('Wogmeer West',), (\"'s-Heer-Hendrikskinderen\",), ('Eemmeer-Eemnes',), ('Meerkoetenweg, Eendenweg, Larserpad',), ('Verspreide huizen Weerselo',), ('Middenmeer Zuid',), ('Verspreide huizen Gaastmeer',), ('Alteveer',), ('De Meerendonk',), ('Meerwijk',), ('Sint Geertruid',), ('Kern Ommen - Alteveer wonen 1-4',), ('Bomenbuurt (Leerdam)',), ('Eertman',), ('Verspreide huizen Westelbeers',), ('Kern Neer',), ('Meerdijk',), ('Winneweer',), ('De Geer-West',), ('Geer',), ('Leersum - Hoogstraat',), ('Wogmeer Oost',), ('Middenmeer Noord',), ('Geleerdenbuurt',), ('Verspreide huizen Raamsdonksveer',), ('Alteveer',), ('Verspreide huizen Neerijnen',), ('Heerlen-Centrum',), ('Veere',), ('Hoge Weerd',), ('Meerwede Zuidwest',), ('Bangeweer',), ('Nederweert-Eind',), ('Maarschalkerweerd en Mereveld',), ('Neerloon',), ('Weerdinge',), ('Mijnsheerenland Woonkern',), ('Weert',), ('Leersum - Darthuizen-Zuylestein',), ('Veerpolder',), ('Borgsweer',), ('Slotermeer Zuid',), ('De Weertjes',), ('Verspreide huizen Heerde-Noord en Hoorn',), ('Daalmeer-Noordwest',), ('Beerta-Centrum',), ('Meer en Duin',), ('De Happert - Leerinkstraat',), ('Leerdam centrum zuid',), ('Weert-Centrum',), ('Geerdijk-Oost',), ('Bedrijventerrein Langeveer',), ('Landweer',), ('Paterswoldsemeer',), ('Nieuwe Meer',), ('Beerschoten-Oostbroek',), ('Verspreide huizen Oostelbeers',), ('Oude Meer',), ('Stevensweert waaronder Bilt',), ('Pijlsweerd-Zuid',), ('Middenmeer Kroonwaard, Schelpenwijk e.o.',), ('De Meern-Noord',), ('Groot Deijleroord en Ter Weer',), ('Verspreide huizen Scheerwolde en Wetering',), ('Bruilweering',), ('Veerplein - De Werf',), ('Debbemeer-Zuid',), ('Valkenburgse Meer',), ('Leersum - Maarsbergseweg',), ('Eerbeek Zuid',), ('De Geer-Oost',), ('Illikhoven en Visserweert',), ('IJsselmeer en Markermeer',), ('Weerwille',), ('Aalsmeerwegbuurt Oost',), ('Ommerveld en verspreide huizen polder Meerten',), ('Katerveer-Engelse werk',), ('Neerijnen',), ('Alteveer/Cranevelt',), ('Joure, Westermeer',), ('Verspreide huizen Oud-Vossemeer',), ('Meerzicht-Oost',), ('Rijnsweerd',), ('Slikkerveer',), ('Verspreide huizen Nieuw-Weerdinge',), ('Aalsmeerwegbuurt West',), ('Beers kern',), ('Landweert 3',), ('Weerestein',), ('Verspreide huizen Beerta',), ('Heerevelden West',), ('Verspreide huizen Geertruidenberg',), ('Lanxmeer',), (\"Kern 's-Heer Abtskerke\",), ('De Geer',), ('Gaastmeer',), ('Keersop',), ('Buitengebied Heteren Boterhoek-Weerbroek',), ('Leersum - Ginkel',), ('Zandweerd-Noord',), ('Oostvaardersdijk, Meerdijkhaven',), ('Aan de Heerstraat e.o.',), ('Geeren-noord',), ('Kern Neeritter',), ('Boekelermeer-Zuid',), ('Heerde',), ('Eersel-kom en Lindeakkers',), ('Legmeerpleinbuurt',), ('Industrieterrein Bargermeer',), ('Karperweg, IJsselmeerdijk',), ('Blokweer Zuid',), ('Wormerveer Noord',), ('Pijlsweerd-Noord',), ('Eerbeek centrum',), ('Weerselo',), ('Passeerdersgrachtbuurt',), ('Hooimeer',), ('Breedweer',), ('Meerdal',), ('Alteveer Buitengebied',), ('Leermens',), ('Eerde',), ('Verspreide huizen Linnerveld en Weerd',), ('Zilvermeer',), ('Wedderveer',), ('Meerdijk',), ('Hoge Neerstraat',), ('Kern Geervliet',), ('Verspreide huizen Hansweert',), (\"Buitengebied 's-Heerenhoek\",), ('Kleine Meers en Veldschuur',), ('Hansweert - Kern',), ('Lange Weeren',), ('Kiel-Windeweer',), ('Daalmeer-Noordoost',), ('Verspreide huizen Veere',), ('Meers',), ('Feerwerd',), ('Altweerterheide buitengebied',), ('Sportpark Middenmeer Zuid',), ('Scheerwolde',), ('Ookmeer',), ('Luddeweer',), (\"Buitengebied 's-Heer Abtskerke\",), ('Zuidermeerweg en omgeving',), ('Springweg en omgeving Geertebuurt',), ('Verspreide huizen Meerlo',), ('Meerland',), ('Eerselsedijk-Woonbos e.o.',), ('Heerlerheide Kom',), (\"Verspreide huizen ten noorden van 's-Heer-Hendrikskinderen\",), ('Bedrijventerrein De Geer',), ('Starnmeer',), ('Neerbeek',), ('Geeren-zuid',), ('Debbemeer-Noord',), ('Geleerdenbuurt',), ('Beerta-Nieuwbouw',), ('Schoteroog en Veerpolder',), ('Waskemeer-Buitengebied',), ('Opmeer-Noord',), ('Wheermolen-West',), ('Raamsdonksveer',), ('Geleerdenbuurt',), ('Buurtschap Eerde',), ('Eerschot',), ('Weebosserweg-Breerijt',), ('Geerdijk-West',), ('Heerma van Vossstraat-Molenbeek',), ('Bedrijvenpark Lutkemeer',), ('Wheermolen-Oost',), ('Heer',), ('Hansweert - Tramper',), ('Meerwede Noordoost',), ('De Heerlijkheid Lage Zwaluwe',), ('De Vijfheerenlanden',), ('Park de Meer',), ('Zandweerd-Zuid',), ('Zandeweer',), ('Garrelsweer',), ('Verspreide huizen Heerewaarden',), ('Verspreide huizen Egmondermeer',), ('IJmeer',), ('Bergermeer',), ('Vroonermeer-Noord',), ('Meer en Oever',), ('Boekelermeer-Noord',), ('Meerwijk',), ('Legmeerpolder',), ('Langweer',), ('Altweerterheide',), ('Stokhem-Beertsenhoven',), ('Beersdal',), ('Naardermeer',), ('Verspreide huizen Meerven',), ('Mensingeweer',), ('Meerplein',), ('Zwartemeer-Centrum',), ('Mijnsheerenland Buitengebied',), ('Goese Meer',), ('Middelbeers',), ('Verspreide huizen Geersdijk',), (\"Kern 's-Heerenhoek\",), ('Neerbosch-Oost',), ('Buurtschap Neerdorp',), ('Aalsmeerderbrug',), ('Verspreide huizen Eersel',), ('Kruiningen - Kruseveer',), ('Meerwijck',), ('Nieuw-Beerta',), ('Meerkerk buitengebied oost',), ('Penningsveer',), ('Meerkerk-Noord',), ('Bakelgeert-Noord',), ('Weerdingerkanaal',), ('Boxmeer buitengebied Oost',), ('Sappemeer-Noord',), ('Theereheide',), ('Kern Ommen - Alteveer Wonen 5-6',), ('Buitengebied Veerse Heide en Koevering',), ('De Heerlijkheid Hooge Zwaluwe',), ('Lauwersmeer',), ('Verspreide huizen Theereheide en Zegenwerp',), ('Sportpark Middenmeer Noord',), ('Johannnes Vermeerbuurt',), ('Zuidermeer Verspreide huizen West',), ('Legmeer',), ('Heerevelden Oost',), ('Kooimeer',), ('Eerste woonwijk',), ('Vermeerkwartier-Oost',), ('Bedrijvenpark Gooimeer-Noord',), ('Hempens/Teerns',), ('Veersepoort',), ('Daalmeer-Zuidwest',), ('s-Heerenbroek',), ('Engelermeer',), ('De Veert',), ('Baarsdorpermeer',), ('Kralingseveer',), ('Vermeerkwartier-West',), ('Verspreide huizen Geerenland',), ('Meerkerk kern',), ('Vogelbuurt (Leerdam)',), ('Leerbroek kern',), ('Buurtschap Beerze',), ('Buurtschap Beerzerveld',), ('Hoornse Meer',), ('Geervliet-Noordoost',), ('Bohemen en Meer en Bos',), ('Keersopperbeemden',), ('Daalmeer-Zuidoost',), ('Buikslotermeer Noord',), ('Buitengebied Eerde',), ('Verspreide huizen Molenwijk, Elzen en Neerbroek',), ('Buikslotermeerplein',), ('Meerpolder',), ('Verspreide huizen Eerbeek',), ('Meerssen',), ('Meerssenhoven',), ('Meerlo',), ('Heerlerbaan-Oost',), ('Bakelgeert-Zuid',), ('Neerbosch-West',), ('Verspreide huizen Neerkant',), ('Verspreide huizen Heerde-Zuid',), ('De Meern-Zuid',), ('Meerburg',), ('Meerzicht-West',), ('Heerle',), ('Polder Blokweer',), ('Verspreide huizen Alteveer',), ('Eersel-Zuid',), ('Laan van Meerweijde en omgeving',), ('Buitengebied Kraanmeer en Veluwe',), ('Kiel-Windeweer Buitengebied',), ('Verspreide huizen Heerle',), ('Polder Heerjansdam',), ('Emmermeer',), ('Neerlangel',), ('Bedrijventerrein Ketelmeerstraat',), ('Meerrijk',), ('De Geer',), ('Boxmeer buitengebied West',), ('Stommeer',), ('De Geer',), ('Oud-Vossemeer',), ('Nederweert',), ('Meerkerk bedrijventerrein',), ('Mheer',), ('Meerwijk',), ('Middenmeer Centrum',), ('Opmeer-Zuid, Spanbroek (gedeeltelijk)',), (\"Verspreide huizen ten zuiden van 's-Heer-Hendrikskinderen\",), ('Vogelhorst-Golfbaan Almeerderhout',), ('Geertruidenberg-Kom',), ('Sint Maheerdt',), ('De Weere',), ('Geersdijk',), ('Groote Weergors',)]\u001B[0m\u001B[32;1m\u001B[1;3mI have found a neighborhood with a name that is very similar to \"Heerewaardan,\" which is \"Heerewaarden.\" Now I will query the greenery percentage for \"Heerewaarden.\"  \n",
      "\n",
      "Action: sql_db_query  \n",
      "Action Input: SELECT greeneryPercentage FROM neighborhoods WHERE name = 'Heerewaarden';  \u001B[0m\u001B[36;1m\u001B[1;3m[(63.537785220849905,)]\u001B[0m\u001B[32;1m\u001B[1;3mI now know the final answer.  \n",
      "Final Answer: The greenery percentage of the neighborhood Heerewaarden is approximately 63.54%.\u001B[0m\n",
      "\n",
      "\u001B[1m> Finished chain.\u001B[0m\n",
      "{'input': \"Using the neighborhoods table, find the greenery percentage of the neighborhood with name Heerewaardan. If you can't find anything, check if the user made a spelling error in the neighborhood name and check if you can find the neighborhood with the corrected name, this should be a neighborhood that has only one or two letters different.\", 'output': 'The greenery percentage of the neighborhood Heerewaarden is approximately 63.54%.'}\n"
     ]
    }
   ],
   "execution_count": 7
  }
 ],
 "metadata": {
  "kernelspec": {
   "display_name": "Python 3",
   "language": "python",
   "name": "python3"
  },
  "language_info": {
   "codemirror_mode": {
    "name": "ipython",
    "version": 2
   },
   "file_extension": ".py",
   "mimetype": "text/x-python",
   "name": "python",
   "nbconvert_exporter": "python",
   "pygments_lexer": "ipython2",
   "version": "2.7.6"
  }
 },
 "nbformat": 4,
 "nbformat_minor": 5
}
