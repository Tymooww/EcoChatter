{
 "cells": [
  {
   "metadata": {},
   "cell_type": "markdown",
   "source": [
    "Version 2.0\n",
    "---\n",
    "Adresses the iteration limit of the agent from version 1. Agent is now a SQL agent that generates the query for a SQlite database with the dataset stored in it.\n"
   ],
   "id": "e9eb7d5fa39038fb"
  },
  {
   "metadata": {},
   "cell_type": "markdown",
   "source": [
    "Imports\n",
    "---"
   ],
   "id": "308e71c660a7ab23"
  },
  {
   "metadata": {
    "ExecuteTime": {
     "end_time": "2025-04-22T12:22:32.293460Z",
     "start_time": "2025-04-22T12:22:27.187604Z"
    }
   },
   "cell_type": "code",
   "source": [
    "from langchain_community.utilities.sql_database import SQLDatabase\n",
    "from langchain_community.agent_toolkits.sql.toolkit import SQLDatabaseToolkit\n",
    "from langchain.agents import create_sql_agent\n",
    "from sqlalchemy import create_engine\n",
    "from sqlalchemy.pool import StaticPool\n",
    "\n",
    "from langchain_openai import AzureChatOpenAI\n",
    "from langchain_ollama import ChatOllama\n",
    "from dotenv import load_dotenv\n",
    "import requests\n",
    "import os\n",
    "import sqlite3"
   ],
   "id": "48fe2553ab822baf",
   "outputs": [],
   "execution_count": 2
  },
  {
   "metadata": {},
   "cell_type": "markdown",
   "source": [
    "Load a large language model\n",
    "----------\n",
    "Langchain makes it possible to easily switch LLMs. Llama 3 is used to show the data can be analysed with a locally running open-source model, but it is very slow. So to speed it up I also used o3-mini and gpt-4o-mini to show it works.\n",
    "\n",
    "Load Llama3:\n"
   ],
   "id": "b05e975155a0d7e1"
  },
  {
   "metadata": {
    "ExecuteTime": {
     "end_time": "2025-04-18T09:07:28.769768Z",
     "start_time": "2025-04-18T09:07:28.706695Z"
    }
   },
   "cell_type": "code",
   "source": "chosen_llm = ChatOllama(base_url='http://localhost:11434', model=\"llama3\")",
   "id": "a1a4046e1a641a9b",
   "outputs": [],
   "execution_count": 35
  },
  {
   "metadata": {},
   "cell_type": "markdown",
   "source": "Load o3-mini (via Azure):",
   "id": "f77781c99b48898a"
  },
  {
   "metadata": {
    "ExecuteTime": {
     "end_time": "2025-04-14T11:13:24.386850Z",
     "start_time": "2025-04-14T11:13:24.270392Z"
    }
   },
   "cell_type": "code",
   "source": [
    "load_dotenv()\n",
    "\n",
    "chosen_llm = AzureChatOpenAI(model =\"o3-mini\", api_version=\"2025-01-01-preview\", azure_endpoint=\"https://56948-m9bdjgpg-eastus2.cognitiveservices.azure.com/openai/deployments/o3-mini/chat/completions?api-version=2025-01-01-preview\", api_key=os.environ.get(\"AZURE_OPENAI_API_KEY\"))"
   ],
   "id": "dae3e6325e0ba1a2",
   "outputs": [],
   "execution_count": 3
  },
  {
   "metadata": {},
   "cell_type": "markdown",
   "source": "Load gpt-4o-mini (via Azure)",
   "id": "5a9dce9213b110dd"
  },
  {
   "metadata": {
    "ExecuteTime": {
     "end_time": "2025-04-22T12:22:36.881087Z",
     "start_time": "2025-04-22T12:22:36.821818Z"
    }
   },
   "cell_type": "code",
   "source": [
    "load_dotenv()\n",
    "\n",
    "chosen_llm = AzureChatOpenAI(model=\"gpt-4o-mini\", api_version=\"2025-01-01-preview\",\n",
    "                             azure_endpoint=\"https://56948-m9bdjgpg-eastus2.cognitiveservices.azure.com/openai/deployments/gpt-4o-mini/chat/completions?api-version=2025-01-01-preview\",\n",
    "                             api_key=os.environ.get(\"AZURE_OPENAI_API_KEY\"))"
   ],
   "id": "260f70cc78667853",
   "outputs": [],
   "execution_count": 3
  },
  {
   "metadata": {},
   "cell_type": "markdown",
   "source": [
    "Create local SQlite database\n",
    "---\n",
    "The database is created by building a SQlite database and creating a \"database engine\" object that will be used later for creating the agent's toolkit."
   ],
   "id": "742a42304e704597"
  },
  {
   "metadata": {
    "ExecuteTime": {
     "end_time": "2025-04-22T12:22:40.029366Z",
     "start_time": "2025-04-22T12:22:39.924890Z"
    }
   },
   "cell_type": "code",
   "source": [
    "con = sqlite3.connect(\"greenery.db\", check_same_thread=False)\n",
    "cur = con.cursor()\n",
    "\n",
    "# Create neighborhoods table in database\n",
    "try:\n",
    "    cur.execute(\"CREATE TABLE neighborhoods(name varchar(255), greeneryPercentage float)\")\n",
    "    print(\"Table created successfully.\")\n",
    "\n",
    "except:\n",
    "    cur.execute(\"DROP TABLE neighborhoods\")\n",
    "    cur.execute(\"CREATE TABLE neighborhoods(name varchar(255), greeneryPercentage float)\")\n",
    "    print(\"Table has been reset, because it already existed.\")\n",
    "\n",
    "# Create database engine object\n",
    "engine = create_engine(\n",
    "        \"sqlite://\",\n",
    "        creator=lambda: con,\n",
    "        poolclass=StaticPool,\n",
    "        connect_args={\"check_same_thread\": False},\n",
    "    )\n",
    "db = SQLDatabase(engine)"
   ],
   "id": "9b073020630bf673",
   "outputs": [
    {
     "name": "stdout",
     "output_type": "stream",
     "text": [
      "Table has been reset, because it already existed.\n"
     ]
    }
   ],
   "execution_count": 4
  },
  {
   "metadata": {},
   "cell_type": "markdown",
   "source": [
    "Extract properties and save them in the database\n",
    "---\n",
    "The dataset is retrieved via an API-request and is then stored in the SQlite database."
   ],
   "id": "592f7fc66d6cd554"
  },
  {
   "metadata": {
    "ExecuteTime": {
     "end_time": "2025-04-22T12:22:45.661677Z",
     "start_time": "2025-04-22T12:22:44.787842Z"
    }
   },
   "cell_type": "code",
   "source": [
    "# Retrieve dataset\n",
    "dataset = requests.get('https://data.rivm.nl/geo/ank/ows?service=WFS&request=GetFeature&typeName=rivm_2022_groenpercentage_kaart_per_buurt&propertyName=bu_naam,_mean&outputFormat=json').json()\n",
    "\n",
    "# Extract properties and put them into a list\n",
    "properties = []\n",
    "for feature in dataset[\"features\"]:\n",
    "    property = feature[\"properties\"]\n",
    "    properties.append((property[\"bu_naam\"], property[\"_mean\"]))\n",
    "\n",
    "# Save the items stored in the list into the database\n",
    "i=0\n",
    "while i < len(properties):\n",
    "    cur.execute(\"INSERT INTO neighborhoods VALUES (?,?)\", properties[i])\n",
    "    i = i + 1\n",
    "con.commit()"
   ],
   "id": "d7d0c7bcb5139f73",
   "outputs": [],
   "execution_count": 5
  },
  {
   "metadata": {},
   "cell_type": "markdown",
   "source": [
    "Create and run the agent\n",
    "---\n",
    "Here the toolkit is created that \"gives\" the database to the agent. It also creates the agent itself, what will analyse the database and create a query for it to answer the question when it is executed.\n"
   ],
   "id": "f4fc9eec4fd9d2bb"
  },
  {
   "metadata": {
    "ExecuteTime": {
     "end_time": "2025-04-23T09:22:41.931860Z",
     "start_time": "2025-04-23T09:22:31.947966Z"
    }
   },
   "cell_type": "code",
   "source": [
    "# Create toolkit:\n",
    "toolkit = SQLDatabaseToolkit(db=db,llm=chosen_llm)\n",
    "\n",
    "# Create agent\n",
    "agent_executor = create_sql_agent(\n",
    "    llm=chosen_llm,\n",
    "    toolkit=toolkit,\n",
    "    verbose=True\n",
    ")\n",
    "\n",
    "# Run the agent\n",
    "input_text = \"Using the neighborhoods table, find the greenery percentage of the neighborhood with name Oldenelerlanden-West.\"\n",
    "response = agent_executor.invoke(input_text, handleParsingErrors=True)\n",
    "print (response)"
   ],
   "id": "15fa21b9639e94f4",
   "outputs": [
    {
     "name": "stdout",
     "output_type": "stream",
     "text": [
      "\n",
      "\n",
      "\u001B[1m> Entering new SQL Agent Executor chain...\u001B[0m\n",
      "\u001B[32;1m\u001B[1;3mAction: sql_db_list_tables  \n",
      "Action Input:  \u001B[0m\u001B[38;5;200m\u001B[1;3mneighborhoods\u001B[0m\u001B[32;1m\u001B[1;3mI see that there is a single table named \"neighborhoods\". I will now query its schema to find out the relevant columns for my query regarding the greenery percentage of the neighborhood \"Oldenelerlanden-West\".  \n",
      "Action: sql_db_schema  \n",
      "Action Input: neighborhoods  \u001B[0m\u001B[33;1m\u001B[1;3m\n",
      "CREATE TABLE neighborhoods (\n",
      "\tname VARCHAR(255), \n",
      "\t\"greeneryPercentage\" FLOAT\n",
      ")\n",
      "\n",
      "/*\n",
      "3 rows from neighborhoods table:\n",
      "name\tgreeneryPercentage\n",
      "Binnenstad-Noord\t7.720674674163046\n",
      "De Schenge\t55.968981056131604\n",
      "Streukel-Holten-Genne\t82.48907110614155\n",
      "*/\u001B[0m\u001B[32;1m\u001B[1;3mI can now construct a SQL query to specifically find the greenery percentage of the neighborhood named \"Oldenelerlanden-West\". It appears that the relevant column for this query is \"greeneryPercentage\" and the condition will be on the \"name\" column.\n",
      "\n",
      "Action: sql_db_query_checker  \n",
      "Action Input: SELECT greeneryPercentage FROM neighborhoods WHERE name = 'Oldenelerlanden-West';  \u001B[0m\u001B[36;1m\u001B[1;3m```sql\n",
      "SELECT greeneryPercentage FROM neighborhoods WHERE name = 'Oldenelerlanden-West';\n",
      "```\u001B[0m\u001B[32;1m\u001B[1;3mThe query checker confirms that my SQL query is correct. I will now execute it to retrieve the greenery percentage for the neighborhood \"Oldenelerlanden-West\".\n",
      "\n",
      "Action: sql_db_query  \n",
      "Action Input: SELECT greeneryPercentage FROM neighborhoods WHERE name = 'Oldenelerlanden-West';  \u001B[0m\u001B[36;1m\u001B[1;3m[(45.90307076101469,)]\u001B[0m\u001B[32;1m\u001B[1;3mI now know the final answer\n",
      "Final Answer: The greenery percentage of the neighborhood Oldenelerlanden-West is approximately 45.90%.\u001B[0m\n",
      "\n",
      "\u001B[1m> Finished chain.\u001B[0m\n",
      "{'input': 'Using the neighborhoods table, find the greenery percentage of the neighborhood with name Oldenelerlanden-West.', 'output': 'The greenery percentage of the neighborhood Oldenelerlanden-West is approximately 45.90%.'}\n"
     ]
    }
   ],
   "execution_count": 7
  }
 ],
 "metadata": {
  "kernelspec": {
   "display_name": "Python 3",
   "language": "python",
   "name": "python3"
  },
  "language_info": {
   "codemirror_mode": {
    "name": "ipython",
    "version": 2
   },
   "file_extension": ".py",
   "mimetype": "text/x-python",
   "name": "python",
   "nbconvert_exporter": "python",
   "pygments_lexer": "ipython2",
   "version": "2.7.6"
  }
 },
 "nbformat": 4,
 "nbformat_minor": 5
}
