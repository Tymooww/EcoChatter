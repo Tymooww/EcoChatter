{
 "cells": [
  {
   "metadata": {},
   "cell_type": "markdown",
   "source": [
    "Biodiversity report generator\n",
    "---\n",
    "This notebook shows the inner workings of the report generator. It combines the \"greeneryDataForNeighborhoodV2\" and \"retrieveGreeneryGoals\" to create an overview of a greenery goal and the progress that has been made to achieve this goal.\n"
   ],
   "id": "e9eb7d5fa39038fb"
  },
  {
   "metadata": {},
   "cell_type": "markdown",
   "source": "# Step 0: Imports\n",
   "id": "308e71c660a7ab23"
  },
  {
   "metadata": {
    "ExecuteTime": {
     "end_time": "2025-05-14T12:01:02.062738Z",
     "start_time": "2025-05-14T12:01:02.015162Z"
    }
   },
   "cell_type": "code",
   "source": [
    "from langchain.chains.sequential import SequentialChain\n",
    "from langchain.chains.retrieval_qa.base import RetrievalQA\n",
    "from langchain.chains.llm import LLMChain\n",
    "from langchain.chains import TransformChain\n",
    "\n",
    "from langchain_openai import AzureChatOpenAI\n",
    "from langchain_ollama import ChatOllama\n",
    "from langchain_huggingface import HuggingFaceEmbeddings\n",
    "\n",
    "from langchain.memory import SimpleMemory\n",
    "from langchain.agents import create_sql_agent\n",
    "from langchain.text_splitter import RecursiveCharacterTextSplitter\n",
    "from langchain.vectorstores import FAISS\n",
    "\n",
    "from langchain_core.prompts import PromptTemplate\n",
    "from langchain_community.utilities.sql_database import SQLDatabase\n",
    "from langchain_community.agent_toolkits.sql.toolkit import SQLDatabaseToolkit\n",
    "from langchain_community.docstore import InMemoryDocstore\n",
    "\n",
    "from sqlalchemy import create_engine\n",
    "from sqlalchemy.pool import StaticPool\n",
    "from dotenv import load_dotenv\n",
    "from PyPDF2 import PdfReader\n",
    "from uuid import uuid4\n",
    "\n",
    "import requests\n",
    "import os\n",
    "import sqlite3\n",
    "import faiss"
   ],
   "id": "48fe2553ab822baf",
   "outputs": [],
   "execution_count": 74
  },
  {
   "metadata": {},
   "cell_type": "markdown",
   "source": [
    "# Step 1: Choose a large language model and embedding model\n",
    "First the LLM and embedding model has to be chosen. There are many options, but a few have been tested and can easily be changed by runing it's specific codeblock."
   ],
   "id": "d2d8d2e222fb6696"
  },
  {
   "metadata": {},
   "cell_type": "markdown",
   "source": [
    "## LLM\n",
    "Choose one of the implemented LLMs: Llama3, o3-mini or 4o-mini.\n"
   ],
   "id": "b05e975155a0d7e1"
  },
  {
   "metadata": {},
   "cell_type": "markdown",
   "source": "Option A: Llama3 (via Ollama, running locally)",
   "id": "9b72011bcc495303"
  },
  {
   "metadata": {
    "ExecuteTime": {
     "end_time": "2025-05-13T13:11:26.475236Z",
     "start_time": "2025-05-13T13:11:26.428027Z"
    }
   },
   "cell_type": "code",
   "source": "chosen_llm = ChatOllama(base_url='http://localhost:11434', model=\"llama3\")",
   "id": "a1a4046e1a641a9b",
   "outputs": [],
   "execution_count": 16
  },
  {
   "metadata": {},
   "cell_type": "markdown",
   "source": "Option B: o3-mini (via Microsoft Azure, running in cloud):",
   "id": "f77781c99b48898a"
  },
  {
   "metadata": {
    "ExecuteTime": {
     "end_time": "2025-05-13T13:11:26.570262Z",
     "start_time": "2025-05-13T13:11:26.506718Z"
    }
   },
   "cell_type": "code",
   "source": [
    "load_dotenv()\n",
    "\n",
    "chosen_llm = AzureChatOpenAI(model =\"o3-mini\", api_version=\"2025-01-01-preview\", azure_endpoint=\"https://56948-m9bdjgpg-eastus2.cognitiveservices.azure.com/openai/deployments/o3-mini/chat/completions?api-version=2025-01-01-preview\", api_key=os.environ.get(\"AZURE_OPENAI_API_KEY\"))"
   ],
   "id": "dae3e6325e0ba1a2",
   "outputs": [],
   "execution_count": 17
  },
  {
   "metadata": {},
   "cell_type": "markdown",
   "source": "Option C: gpt-4o-mini (via Microsoft Azure, running in cloud):",
   "id": "5a9dce9213b110dd"
  },
  {
   "metadata": {
    "ExecuteTime": {
     "end_time": "2025-05-13T13:11:26.669415Z",
     "start_time": "2025-05-13T13:11:26.604788Z"
    }
   },
   "cell_type": "code",
   "source": [
    "load_dotenv()\n",
    "\n",
    "chosen_llm = AzureChatOpenAI(model=\"gpt-4o-mini\", api_version=\"2025-01-01-preview\",\n",
    "                             azure_endpoint=\"https://56948-m9bdjgpg-eastus2.cognitiveservices.azure.com/openai/deployments/gpt-4o-mini/chat/completions?api-version=2025-01-01-preview\",\n",
    "                             api_key=os.environ.get(\"AZURE_OPENAI_API_KEY\"))"
   ],
   "id": "260f70cc78667853",
   "outputs": [],
   "execution_count": 18
  },
  {
   "metadata": {},
   "cell_type": "markdown",
   "source": [
    "## Embedding model\n",
    "Choose one of the implemented models: all-MiniLM-L6-v2 or all-mpnet-base-v2"
   ],
   "id": "c33ab39567730e0a"
  },
  {
   "metadata": {},
   "cell_type": "markdown",
   "source": "Option A: all-MiniLM-L6-v2 (faster, but worse)",
   "id": "87baa1708087f6f"
  },
  {
   "metadata": {
    "ExecuteTime": {
     "end_time": "2025-05-13T13:11:28.224624Z",
     "start_time": "2025-05-13T13:11:26.705111Z"
    }
   },
   "cell_type": "code",
   "source": "embedding_model = HuggingFaceEmbeddings(model_name=\"sentence-transformers/all-MiniLM-L6-v2\")",
   "id": "70c92f2cf6c4481f",
   "outputs": [],
   "execution_count": 19
  },
  {
   "metadata": {},
   "cell_type": "markdown",
   "source": "Option B: all-mpnet-base-v2 (slower, but better)",
   "id": "4175768dc151a01e"
  },
  {
   "metadata": {
    "ExecuteTime": {
     "end_time": "2025-05-13T13:11:29.613205Z",
     "start_time": "2025-05-13T13:11:28.256696Z"
    }
   },
   "cell_type": "code",
   "source": "embedding_model = HuggingFaceEmbeddings(model_name=\"sentence-transformers/all-mpnet-base-v2\")",
   "id": "4db0e52535159ea5",
   "outputs": [],
   "execution_count": 20
  },
  {
   "metadata": {},
   "cell_type": "markdown",
   "source": [
    "# Step 2: Create the chains\n",
    "The second step is to create the chains that will retrieve the information that is needed to generate biodiversity reports. This information consists of a greenery goal and a greenery percentage of a specific municipality."
   ],
   "id": "55d98a768d01d87b"
  },
  {
   "metadata": {},
   "cell_type": "markdown",
   "source": [
    "## Chain A: Retrieve greenery goal\n",
    "The first chain is able to retrieve a greenery goal. This goal will be retrieved with a Q&A chain that uses RAG to analyse multiple document chunks. The data that the chain needs will first be prepared to help the LLM analyse the information better and after that the chain will be created that will (later) analyse the prepared data."
   ],
   "id": "fd68ef7eaca25039"
  },
  {
   "metadata": {},
   "cell_type": "markdown",
   "source": [
    "### Data preparation: save document chunks in a vector database\n",
    "First a pdf that contains a greenery goal will be loaded. The text of this document will be extracted and will then be chunked into smaller pieces. After that a vector database will be created and the chunks will be saved into it."
   ],
   "id": "e3931f1463f62da3"
  },
  {
   "metadata": {
    "ExecuteTime": {
     "end_time": "2025-05-13T13:11:42.927982Z",
     "start_time": "2025-05-13T13:11:29.666199Z"
    }
   },
   "cell_type": "code",
   "source": [
    "# Load file\n",
    "file_path = \"./GroenvisieSchiedam.pdf\"\n",
    "doc_reader = PdfReader(file_path)\n",
    "\n",
    "# Extract page content\n",
    "raw_text = ''\n",
    "for page in doc_reader.pages:\n",
    "    text = page.extract_text()\n",
    "    if text:\n",
    "        raw_text += text\n",
    "\n",
    "print(\"Amount of characters raw text: \" + str(len(raw_text)))\n",
    "\n",
    "# Split the page content into chunks\n",
    "text_splitter = RecursiveCharacterTextSplitter(\n",
    "    chunk_size = 1000,\n",
    "    chunk_overlap  = 200,\n",
    ")\n",
    "chunks = text_splitter.split_text(raw_text)\n",
    "\n",
    "print(\"Amount of characters first chunk: \" + str(len(chunks[0])))\n",
    "\n",
    "# Create vector store\n",
    "index = faiss.IndexFlatL2(len(embedding_model.embed_query(chunks[0]))) # Calculates the amount of dimensions the chunk's vector has\n",
    "\n",
    "vector_store = FAISS(\n",
    "    embedding_function=embedding_model,\n",
    "    index=index,\n",
    "    docstore=InMemoryDocstore(),\n",
    "    index_to_docstore_id={},\n",
    ")\n",
    "\n",
    "# Give chunks UUIDS\n",
    "uuids = []\n",
    "for chunk in range(len(chunks)):\n",
    "    uuids.append(str(uuid4()))\n",
    "\n",
    "# Create embeddings of chunks and store them in the vector database\n",
    "vector_store.add_texts(texts=chunks, ids=uuids)\n",
    "\n",
    "print(\"\\n UUIDs of items stored in vector database: \" + str(uuids))"
   ],
   "id": "19a6ce21b1b45da",
   "outputs": [
    {
     "name": "stdout",
     "output_type": "stream",
     "text": [
      "Amount of characters raw text: 9039\n",
      "Amount of characters first chunk: 627\n",
      "\n",
      " UUIDs of items stored in vector database: ['6880a5a3-f171-461e-8c25-6241165b0963', 'ecd9e122-2b13-43f8-b289-3580c545b124', '97a0fc78-6ef8-4b46-9293-2668f3c31916', '73e1e2b4-a5dc-4eef-8405-b2848643dbcc', 'f574cb77-e762-4f19-b9ba-83ebd12e9efd', 'c124a020-b328-4fed-81d0-fcd84520384b', '8ea17db0-c9dd-4f93-95b4-a0300d858e4e', '19fdbbe2-71cf-47b3-8acf-a5dc5d9a0e05', 'b913340d-b782-4d70-81c0-fe52474fc2e6', '35a55909-4e4f-4cf1-b8e6-c0898efe44e7', '52d9d229-69c1-4f36-b227-aa9140347235', 'a79d772f-86b8-479b-b6a4-04d1f6eab5ba']\n"
     ]
    }
   ],
   "execution_count": 21
  },
  {
   "metadata": {},
   "cell_type": "markdown",
   "source": [
    "### Create Q&A chain\n",
    "Create a QA chain that is able to do a similarity search for the 10 most relevant chunks and analyze these chunks to find the percentage asked."
   ],
   "id": "7b12f0edf62ef178"
  },
  {
   "metadata": {
    "ExecuteTime": {
     "end_time": "2025-05-14T13:25:31.069382Z",
     "start_time": "2025-05-14T13:25:31.053496Z"
    }
   },
   "cell_type": "code",
   "source": [
    "# Create prompt template\n",
    "template = \"\"\"\n",
    "Je bent een documentenanalist. Gebruik de aangeleverde documenten om het percentage te vinden dat de vraag beantwoord. Geef als antwoord alleen het percentage, verder niks.\n",
    "\n",
    "Vraag: {question}\n",
    "Aangeleverde documenten: {context}\n",
    "\"\"\"\n",
    "prompt_template = PromptTemplate(input_variables=['context', 'question'], template=template)\n",
    "\n",
    "# Create Q&A chain\n",
    "qa_chain = RetrievalQA.from_chain_type(\n",
    "    llm=chosen_llm,\n",
    "    chain_type=\"stuff\",\n",
    "    retriever=vector_store.as_retriever(search_kwargs={\"k\": 10}), # This will do the similarity search for the 10 most relevant chunks and adds them to the {context} variable\n",
    "    return_source_documents=True,\n",
    "    chain_type_kwargs={\"prompt\": prompt_template},\n",
    "    output_key=\"greeneryGoal\"\n",
    ")\n",
    "\n",
    "print(\"Prompt die is meegegeven aan chain: \", prompt_template.format(question=\"[hier komt de ingevulde vraag te staan]\", context=\"[hier komen de aangeleverde document chunks te staan]\"))"
   ],
   "id": "46f86546e27d844c",
   "outputs": [
    {
     "name": "stdout",
     "output_type": "stream",
     "text": [
      "Prompt die is meegegeven aan chain:  \n",
      "Je bent een documentenanalist. Gebruik de aangeleverde documenten om het percentage te vinden dat de vraag beantwoord. Geef als antwoord alleen het percentage, verder niks.\n",
      "\n",
      "Vraag: [hier komt de ingevulde vraag te staan]\n",
      "Aangeleverde documenten: [hier komen de aangeleverde document chunks te staan]\n",
      "\n"
     ]
    }
   ],
   "execution_count": 120
  },
  {
   "metadata": {},
   "cell_type": "markdown",
   "source": [
    "## Chain B: Retrieve greenery percentage\n",
    "The second chain is able retreive the greenery percentage of a specific municipality. This is done with a SQL-agent chain. The data that the agent needs will first be prepared to help the agent analyse the information better and after that the chain will be created that will (later) analyse the prepared data."
   ],
   "id": "5427c2a36e9cedf2"
  },
  {
   "metadata": {},
   "cell_type": "markdown",
   "source": [
    "### Data preparation: store greenery percentages in SQlite database\n",
    "First the database will be created by building a SQlite database and creating a \"database engine\" object that will be used for creating the agent's toolkit. As soon as that is done the dataset will be retrieved via an API-request and will then be stored in the database."
   ],
   "id": "742a42304e704597"
  },
  {
   "metadata": {
    "ExecuteTime": {
     "end_time": "2025-05-14T12:08:46.650949Z",
     "start_time": "2025-05-14T12:08:46.442409Z"
    }
   },
   "cell_type": "code",
   "source": [
    "# Create database\n",
    "con = sqlite3.connect(\"greeneryPercentages.db\", check_same_thread=False)\n",
    "cur = con.cursor()\n",
    "\n",
    "# Create municipalities table in database\n",
    "try:\n",
    "    cur.execute(\"CREATE TABLE municipalities(name varchar(255), greeneryPercentage float)\")\n",
    "    print(\"Table created successfully.\")\n",
    "\n",
    "except:\n",
    "    cur.execute(\"DROP TABLE municipalities\")\n",
    "    cur.execute(\"CREATE TABLE municipalities(name varchar(255), greeneryPercentage float)\")\n",
    "    print(\"Table has been reset, because it already existed.\")\n",
    "\n",
    "# Create database engine object\n",
    "engine = create_engine(\n",
    "        \"sqlite://\",\n",
    "        creator=lambda: con,\n",
    "        poolclass=StaticPool,\n",
    "        connect_args={\"check_same_thread\": False},\n",
    "    )\n",
    "db = SQLDatabase(engine)\n",
    "\n",
    "# Retrieve dataset\n",
    "dataset = requests.get('https://data.rivm.nl/geo/ank/ows?service=WFS&request=GetFeature&typeName=rivm_2022_groenpercentage_kaart_per_gemeente&propertyName=gm_naam,_mean&outputFormat=json').json()\n",
    "\n",
    "# Extract properties and put them into a list\n",
    "properties = []\n",
    "for feature in dataset[\"features\"]:\n",
    "    property = feature[\"properties\"]\n",
    "    properties.append((property[\"gm_naam\"], property[\"_mean\"]))\n",
    "\n",
    "# Save the items stored in the list into the database\n",
    "i=0\n",
    "while i < len(properties):\n",
    "    cur.execute(\"INSERT INTO municipalities VALUES (?,?)\", properties[i])\n",
    "    i = i + 1\n",
    "con.commit()"
   ],
   "id": "9b073020630bf673",
   "outputs": [
    {
     "name": "stdout",
     "output_type": "stream",
     "text": [
      "Table has been reset, because it already existed.\n"
     ]
    }
   ],
   "execution_count": 89
  },
  {
   "metadata": {},
   "cell_type": "markdown",
   "source": [
    "### Create SQL-agent chain\n",
    "Create a SQL-agent chain that is able to analyse the created database and create a SQL-query for it to answer the question when it is executed."
   ],
   "id": "f4fc9eec4fd9d2bb"
  },
  {
   "metadata": {
    "ExecuteTime": {
     "end_time": "2025-05-14T13:26:25.081200Z",
     "start_time": "2025-05-14T13:26:25.060196Z"
    }
   },
   "cell_type": "code",
   "source": [
    "# Create toolkit:\n",
    "toolkit = SQLDatabaseToolkit(db=db,llm=chosen_llm)\n",
    "\n",
    "# Create agent chain\n",
    "sql_agent_chain = create_sql_agent(\n",
    "    llm=chosen_llm,\n",
    "    toolkit=toolkit,\n",
    "    verbose=False,\n",
    "    output_key=\"greeneryPercentage\",\n",
    "    handleParsingErrors=True\n",
    ")\n",
    "\n",
    "# Transform function that returns the result of the agent in a dictionary (making it compatible with the other chains)\n",
    "def run_sql_agent(inputs):\n",
    "    result = sql_agent_chain.run(inputs[\"greeneryPercentageInputPrompt\"])\n",
    "    return {\"greeneryPercentage\": result}\n",
    "\n",
    "# Transform Chain that calls the transform function\n",
    "greeneryPercentageChain = TransformChain(\n",
    "    input_variables=[\"greeneryPercentageInputPrompt\"],\n",
    "    output_variables=[\"greeneryPercentage\"],\n",
    "    transform=run_sql_agent\n",
    ")"
   ],
   "id": "15fa21b9639e94f4",
   "outputs": [],
   "execution_count": 126
  },
  {
   "metadata": {},
   "cell_type": "markdown",
   "source": [
    "## Chain C: Combine greenery goal and greenery percentage\n",
    "The third chain will analyse a greenery goal and percentage and write a few lines about the progress towards the goal.\n"
   ],
   "id": "a56af0b925d1e5bc"
  },
  {
   "metadata": {
    "ExecuteTime": {
     "end_time": "2025-05-14T13:26:14.740481Z",
     "start_time": "2025-05-14T13:26:14.711312Z"
    }
   },
   "cell_type": "code",
   "source": [
    "# Create prompt template\n",
    "template = \"\"\"\n",
    "Je bent een biodiversiteit analyst. Je krijgt een groenpercentage van een gemeente en de doelstelling van deze gemeente, aan jou de taak om deze informatie te tonen aan de gebruiker en te vertellen hoever de doelstelling behaald is. Beschrijf de resultaten in maximaal 150 woorden en zorg dat je een formele schrijfstijl gebruikt. Het format hiervoor is als volgt:\n",
    "'Gemeente: <de gemeente waar je het over hebt>\n",
    "Doelstelling: <het groenpercentage>\n",
    "Huidige hoeveelheid groen: <de groendoelstelling>\n",
    "\n",
    "<jouw resultatenbeschrijving>'\n",
    "\n",
    "\n",
    "Gemeente: {municipality}\n",
    "Groenpercentage: {greeneryPercentage}\n",
    "Groendoelstelling: {greeneryGoal}\n",
    "\"\"\"\n",
    "prompt_template = PromptTemplate(input_variables=[\"municipality\", \"greeneryPercentage\", \"greeneryGoal\"], template=template)\n",
    "\n",
    "analysis_chain = LLMChain(\n",
    "    llm=chosen_llm,\n",
    "    prompt=prompt_template,\n",
    "    output_key=\"greeneryAnalysis\"\n",
    ")\n",
    "\n",
    "print(\"Prompt die is meegegeven aan chain: \", prompt_template.format(municipality=\"[hier komt de gemeente te staan die is ingevoerd bij het starten van de sequential chain]\", greeneryPercentage=\"[hier komt het huidige groenpercentage te staan dat gevonden is in chain B]\", greeneryGoal=\"[hier komt de groendoelstelling te staan dat gevonden is in chain A]\"))"
   ],
   "id": "562dc10a3240d2a7",
   "outputs": [
    {
     "name": "stdout",
     "output_type": "stream",
     "text": [
      "Prompt die is meegegeven aan chain:  \n",
      "Je bent een biodiversiteit analyst. Je krijgt een groenpercentage van een gemeente en de doelstelling van deze gemeente, aan jou de taak om deze informatie te tonen aan de gebruiker en te vertellen hoever de doelstelling behaald is. Beschrijf de resultaten in maximaal 150 woorden en zorg dat je een formele schrijfstijl gebruikt. Het format hiervoor is als volgt:\n",
      "'Gemeente: <de gemeente waar je het over hebt>\n",
      "Doelstelling: <het groenpercentage>\n",
      "Huidige hoeveelheid groen: <de groendoelstelling>\n",
      "\n",
      "<jouw resultatenbeschrijving>'\n",
      "\n",
      "\n",
      "Gemeente: [hier komt de gemeente te staan die is ingevoerd bij het starten van de sequential chain]\n",
      "Groenpercentage: [hier komt het huidige groenpercentage te staan dat gevonden is in chain B]\n",
      "Groendoelstelling: [hier komt de groendoelstelling te staan dat gevonden is in chain A]\n",
      "\n"
     ]
    }
   ],
   "execution_count": 125
  },
  {
   "metadata": {},
   "cell_type": "markdown",
   "source": [
    "# Step 3: Combining the percentage and goal\n",
    "The third step is create a sequential chain that combines the Q&A chain and the SQL-agent chain. The sequential chain will parse the result of a previous chain to the next one with the use of prompt templates."
   ],
   "id": "d6f29c5ea9db144b"
  },
  {
   "metadata": {},
   "cell_type": "markdown",
   "source": [
    "## Create sequential chain\n",
    "Create the sequential chain that combines the two chains created earlier."
   ],
   "id": "b4701e943a59617"
  },
  {
   "metadata": {
    "ExecuteTime": {
     "end_time": "2025-05-14T13:28:31.597568Z",
     "start_time": "2025-05-14T13:28:20.542923Z"
    }
   },
   "cell_type": "code",
   "source": [
    "# Create combined chain\n",
    "greeneryChain = SequentialChain(\n",
    "    memory=SimpleMemory(),\n",
    "    chains=[greeneryPercentageChain, qa_chain, analysis_chain],\n",
    "    input_variables=[\"greeneryPercentageInputPrompt\", \"municipality\", \"query\"],\n",
    "    output_variables=[\"greeneryAnalysis\"],\n",
    "    verbose=True\n",
    ")\n",
    "\n",
    "municipality = \"Schiedam\"\n",
    "\n",
    "# Execute combined chain\n",
    "result = greeneryChain.invoke({\"greeneryPercentageInputPrompt\": \"Vind het groenpercentage van gemeente \" + municipality, \"municipality\": municipality, \"query\": \"Wat is het percentage dat de gemeente wil realiseren met een natuurlijke opbouw?\"})\n",
    "print(result['greeneryAnalysis'])"
   ],
   "id": "fa54ddb7dc598703",
   "outputs": [
    {
     "name": "stdout",
     "output_type": "stream",
     "text": [
      "\n",
      "\n",
      "\u001B[1m> Entering new SequentialChain chain...\u001B[0m\n",
      "\n",
      "\u001B[1m> Finished chain.\u001B[0m\n",
      "Gemeente: Schiedam  \n",
      "Doelstelling: 40%  \n",
      "Huidige hoeveelheid groen: 46.52%  \n",
      "\n",
      "De gemeente Schiedam heeft haar groendoelstelling van 40% ruimschoots behaald, met een huidig groenpercentage van 46.52%. Dit vertegenwoordigt een overschot van 6.52% ten opzichte van de gestelde doelstelling. De aanzienlijke aanwezigheid van groen in Schiedam weerspiegelt een succesvolle inzet voor biodiversiteit en milieubehoud. Het behalen van deze doelstelling biedt een solide basis voor toekomstig beleid, gericht op het verbeteren van de leefomgeving en het bevorderen van flora en fauna. Dit resultaat bevestigt de effectiviteit van de genomen maatregelen tot nu toe, en biedt tegelijkertijd een stimulans voor het continu verbeteren van de groene infrastructuur in de gemeente.\n"
     ]
    }
   ],
   "execution_count": 128
  }
 ],
 "metadata": {
  "kernelspec": {
   "display_name": "Python 3",
   "language": "python",
   "name": "python3"
  },
  "language_info": {
   "codemirror_mode": {
    "name": "ipython",
    "version": 2
   },
   "file_extension": ".py",
   "mimetype": "text/x-python",
   "name": "python",
   "nbconvert_exporter": "python",
   "pygments_lexer": "ipython2",
   "version": "2.7.6"
  }
 },
 "nbformat": 4,
 "nbformat_minor": 5
}
